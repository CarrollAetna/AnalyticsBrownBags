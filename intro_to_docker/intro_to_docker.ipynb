{
 "cells": [
  {
   "cell_type": "markdown",
   "metadata": {},
   "source": [
    "# Intro to Docker\n",
    "\n",
    "### Resources\n",
    "Interactive docker tutorials and guides - https://training.play-with-docker.com/\n",
    "\n",
    "### Installation\n",
    "\n",
    "1. Go to the following site https://docs.docker.com/install/\n",
    "2. Download and follow guides for your OS\n",
    "3. Test with the following command\n",
    "```\n",
    "docker run hello-world\n",
    "```"
   ]
  },
  {
   "cell_type": "code",
   "execution_count": 4,
   "metadata": {},
   "outputs": [
    {
     "name": "stdout",
     "output_type": "stream",
     "text": [
      "Unable to find image 'hello-world:latest' locally\n",
      "latest: Pulling from library/hello-world\n",
      "\n",
      "\u001b[1BDigest: sha256:9572f7cdcee8591948c2963463447a53466950b3fc15a247fcad1917ca215a2f\n",
      "Status: Downloaded newer image for hello-world:latest\n",
      "\n",
      "Hello from Docker!\n",
      "This message shows that your installation appears to be working correctly.\n",
      "\n",
      "To generate this message, Docker took the following steps:\n",
      " 1. The Docker client contacted the Docker daemon.\n",
      " 2. The Docker daemon pulled the \"hello-world\" image from the Docker Hub.\n",
      "    (amd64)\n",
      " 3. The Docker daemon created a new container from that image which runs the\n",
      "    executable that produces the output you are currently reading.\n",
      " 4. The Docker daemon streamed that output to the Docker client, which sent it\n",
      "    to your terminal.\n",
      "\n",
      "To try something more ambitious, you can run an Ubuntu container with:\n",
      " $ docker run -it ubuntu bash\n",
      "\n",
      "Share images, automate workflows, and more with a free Docker ID:\n",
      " https://hub.docker.com/\n",
      "\n",
      "For more examples and ideas, visit:\n",
      " https://docs.docker.com/get-started/\n",
      "\n"
     ]
    }
   ],
   "source": [
    "!docker run hello-world"
   ]
  },
  {
   "cell_type": "markdown",
   "metadata": {},
   "source": [
    "----\n",
    "## Overview\n",
    "\n",
    "1. __What is docker?__\n",
    "\n",
    "    Docker is a tool to build, deploy, and manage\"microservices\", self-contained services that include all the necessary dependencies such as OS, libraries, etc. and share resources from the main server it is running on.\n",
    "\n",
    "2. __Why use docker?__\n",
    "\n",
    "    Docker is a useful tool to build, test, and deploy services. It enables developers to not have to focus on infrastructure or library dependencies and removes a lot of overhead. It is useful for things as simple as scripting or as complex as distributed services. For example, the ability to run linux applications on a Windows machine. This can also typically be done with a VM, but the ease of use and smaller overhead of managing docker containers makes docker a great portable/low cost option.\n",
    "    \n",
    "    Docker is also great for scaling because it shares resources with the underlying machine that it is running on. Machine clusters can be run to essentially create a pool of resources that docker can pull from allowing for ease of scalability. In my opinion, this is the main reason why Docker is really great. There is no need to provision extra VMs in order to handle load. One can just spin up more docker containers and increase the overall pool of resources if they are constrained. Docker is elastic so it will grow and shrink its needs depending on capacity and usage.\n",
    "    \n",
    "    It is open source and widely used which means a lot of contributors have put up useful docker images and code. It is a large community and most IT companies use it now to build and develop services. This essentially means that other people have already done most of the work for you, so we can simply juse use their stuff to our advantage\n",
    "    \n",
    "3. __How to use docker?__\n",
    "\n",
    "    Lets run through the notebook!"
   ]
  },
  {
   "cell_type": "markdown",
   "metadata": {},
   "source": [
    "----\n",
    "## Basic commands\n",
    "\n",
    "Docs - https://docs.docker.com/engine/reference/commandline/docker/"
   ]
  },
  {
   "cell_type": "code",
   "execution_count": 41,
   "metadata": {},
   "outputs": [
    {
     "name": "stdout",
     "output_type": "stream",
     "text": [
      "REPOSITORY                                       TAG                 IMAGE ID            CREATED              SIZE\n",
      "demo                                             latest              ebeae554916b        About a minute ago   943MB\n",
      "<none>                                           <none>              dbb8fd6c75f9        4 minutes ago        943MB\n",
      "<none>                                           <none>              a601ef92d4b9        5 minutes ago        943MB\n",
      "procedure_search                                 pytest              92aafc43e9f9        47 hours ago         1.02GB\n",
      "procedure_search                                 latest              08b729f7f074        47 hours ago         1.02GB\n",
      "test                                             latest              1cae8c8cf52d        47 hours ago         1.02GB\n",
      "bert-server                                      latest              09ff3bf77650        2 days ago           4.71GB\n",
      "python                                           3.7                 879165535a54        8 days ago           919MB\n",
      "python                                           3                   efdecc2e377a        8 days ago           933MB\n",
      "mongo                                            latest              8e89dfef54ff        2 weeks ago          386MB\n",
      "centos                                           latest              470671670cac        3 weeks ago          237MB\n",
      "ubuntu                                           latest              ccc6e87d482b        4 weeks ago          64.2MB\n",
      "docker-publish.nexus.aetnadigital.net/codenarc   latest              d0c56d9fdc50        6 months ago         1.46GB\n",
      "hello-world                                      latest              fce289e99eb9        13 months ago        1.84kB\n",
      "tensorflow/tensorflow                            1.12.0-gpu-py3      413b9533f92a        15 months ago        3.35GB\n",
      "\n",
      "CONTAINER ID        IMAGE               COMMAND             CREATED              STATUS              PORTS                    NAMES\n",
      "1a4961442428        demo                \"python app.py\"     About a minute ago   Up About a minute   0.0.0.0:5000->5000/tcp   demo\n"
     ]
    }
   ],
   "source": [
    "# List built images\n",
    "!docker images\n",
    "!echo\n",
    "# List all containers. Remove the -a tag to only view running containers\n",
    "!docker container ls -a"
   ]
  },
  {
   "cell_type": "code",
   "execution_count": 13,
   "metadata": {},
   "outputs": [
    {
     "name": "stdout",
     "output_type": "stream",
     "text": [
      "\n",
      "Hello from Docker!\n",
      "This message shows that your installation appears to be working correctly.\n",
      "\n",
      "To generate this message, Docker took the following steps:\n",
      " 1. The Docker client contacted the Docker daemon.\n",
      " 2. The Docker daemon pulled the \"hello-world\" image from the Docker Hub.\n",
      "    (amd64)\n",
      " 3. The Docker daemon created a new container from that image which runs the\n",
      "    executable that produces the output you are currently reading.\n",
      " 4. The Docker daemon streamed that output to the Docker client, which sent it\n",
      "    to your terminal.\n",
      "\n",
      "To try something more ambitious, you can run an Ubuntu container with:\n",
      " $ docker run -it ubuntu bash\n",
      "\n",
      "Share images, automate workflows, and more with a free Docker ID:\n",
      " https://hub.docker.com/\n",
      "\n",
      "For more examples and ideas, visit:\n",
      " https://docs.docker.com/get-started/\n",
      "\n"
     ]
    }
   ],
   "source": [
    "# Run image as container\n",
    "!docker run hello-world"
   ]
  },
  {
   "cell_type": "code",
   "execution_count": 18,
   "metadata": {},
   "outputs": [
    {
     "name": "stdout",
     "output_type": "stream",
     "text": [
      "hello world\n"
     ]
    }
   ],
   "source": [
    "# Start docker container with name and run command. If starting without name, a default name will be given\n",
    "!docker run --name eugene_os centos echo \"hello world\""
   ]
  },
  {
   "cell_type": "code",
   "execution_count": 19,
   "metadata": {},
   "outputs": [
    {
     "name": "stdout",
     "output_type": "stream",
     "text": [
      "eugene_os\n"
     ]
    }
   ],
   "source": [
    "# Start existing docker container\n",
    "!docker start eugene_os"
   ]
  },
  {
   "cell_type": "markdown",
   "metadata": {},
   "source": [
    "----\n",
    "## Dockerfile\n",
    "\n",
    "- __Docker images__ are the blueprints for Docker containers\n",
    "\n",
    "- __Docker containers__ are the services that are run\n",
    "\n",
    "- __Docker images__ are created using Dockerfiles\n",
    "\n",
    "- __Docker-compose__ is a cli tool to orchestrate and service multiple interactive docker containers"
   ]
  },
  {
   "cell_type": "code",
   "execution_count": 44,
   "metadata": {},
   "outputs": [
    {
     "name": "stdout",
     "output_type": "stream",
     "text": [
      "# Start from a base image. In this case, we are using a docker image with python 3 installed\n",
      "FROM python:3\n",
      "\n",
      "# Copy any directories from local storage to the docker image\n",
      "ADD . /demo\n",
      "\n",
      "# Change working directory. If ran in -it mode, we would begin in /demo\n",
      "WORKDIR /demo\n",
      "\n",
      "# Run any commands necessary for setup. This is usually for installation or setup\n",
      "RUN pip install -q -r requirements.txt\n",
      "\n",
      "# Expose port to be accessed\n",
      "EXPOSE 5000\n",
      "\n",
      "# Last line of a dockerfile. Runs command. Usually used to run a daemon or webserver\n",
      "CMD [\"python\", \"app.py\"]\n"
     ]
    }
   ],
   "source": [
    "# List dockerfile \n",
    "!cat demo/Dockerfile"
   ]
  },
  {
   "cell_type": "code",
   "execution_count": 36,
   "metadata": {},
   "outputs": [
    {
     "name": "stdout",
     "output_type": "stream",
     "text": [
      "Sending build context to Docker daemon  30.21kB\n",
      "Step 1/6 : FROM python:3\n",
      " ---> efdecc2e377a\n",
      "Step 2/6 : ADD src /demo\n",
      " ---> Using cache\n",
      " ---> 10f1388f02e1\n",
      "Step 3/6 : WORKDIR /demo\n",
      " ---> Using cache\n",
      " ---> 985deeabed03\n",
      "Step 4/6 : RUN pip install -q -r requirements.txt\n",
      " ---> Using cache\n",
      " ---> 489b751bd51d\n",
      "Step 5/6 : EXPOSE 5000\n",
      " ---> Using cache\n",
      " ---> a9cf677ae0a5\n",
      "Step 6/6 : CMD [\"python\", \"app.py\"]\n",
      " ---> Running in 01d674a19afb\n",
      "Removing intermediate container 01d674a19afb\n",
      " ---> ebeae554916b\n",
      "Successfully built ebeae554916b\n",
      "Successfully tagged demo:latest\n"
     ]
    }
   ],
   "source": [
    "# Build docker image from Dockerfile with tag\n",
    "!docker build -t demo -f demo/Dockerfile ."
   ]
  },
  {
   "cell_type": "code",
   "execution_count": 38,
   "metadata": {},
   "outputs": [
    {
     "name": "stdout",
     "output_type": "stream",
     "text": [
      "1a4961442428fde1638c81ecf3c49c0e71825a426cd870e7672915fd6edc15ab\n"
     ]
    }
   ],
   "source": [
    "# Run service and map port 5000 to be able to access on our local network\n",
    "!docker run -p 5000:5000 -d --name demo demo\n",
    "!docker ps\n",
    "!curl localhost:5000/healthcheck"
   ]
  },
  {
   "cell_type": "code",
   "execution_count": 46,
   "metadata": {},
   "outputs": [
    {
     "name": "stdout",
     "output_type": "stream",
     "text": [
      "Error: No such container: demo\n",
      "Untagged: demo:latest\n",
      "Deleted: sha256:ebeae554916bf218cc4c5731217e4e084bc9c3bdd21dfe30ca971b5d7fc99564\n"
     ]
    }
   ],
   "source": [
    "# Shut down service and remove container and image\n",
    "!docker rm -f demo\n",
    "!docker rmi demo"
   ]
  },
  {
   "cell_type": "markdown",
   "metadata": {},
   "source": [
    "----\n",
    "## Docker-compose\n",
    "\n",
    "docker-compose is a cli tool that can be used to build and deploy multiple integrated services with a single command. It is handy for building simple services or creating complex architectures\n",
    "\n",
    "### Simple example\n"
   ]
  },
  {
   "cell_type": "code",
   "execution_count": 45,
   "metadata": {},
   "outputs": [
    {
     "name": "stdout",
     "output_type": "stream",
     "text": [
      "---\n",
      "version: '3'\n",
      "services:\n",
      "  demo:\n",
      "    build : \n",
      "      context: demo\n",
      "    image: demo:latest\n",
      "    container_name: demo\n",
      "    ports:\n",
      "     - \"5000:5000\"\n"
     ]
    }
   ],
   "source": [
    "# List docker-compose contents\n",
    "!cat docker-compose.yml"
   ]
  },
  {
   "cell_type": "code",
   "execution_count": 51,
   "metadata": {},
   "outputs": [
    {
     "name": "stdout",
     "output_type": "stream",
     "text": [
      "Creating network \"intro_to_docker_default\" with the default driver\n",
      "Building demo\n",
      "Step 1/6 : FROM python:3\n",
      " ---> efdecc2e377a\n",
      "Step 2/6 : ADD . /demo\n",
      " ---> 7a70bf03dfc9\n",
      "Step 3/6 : WORKDIR /demo\n",
      " ---> Running in fd46482e61c8\n",
      "Removing intermediate container fd46482e61c8\n",
      " ---> db5dc44b1dcb\n",
      "Step 4/6 : RUN pip install -q -r requirements.txt\n",
      " ---> Running in 07b327b7190a\n",
      "Removing intermediate container 07b327b7190a\n",
      " ---> 9721f1072ce5\n",
      "Step 5/6 : EXPOSE 5000\n",
      " ---> Running in 4e83cc9429be\n",
      "Removing intermediate container 4e83cc9429be\n",
      " ---> 2b2ce206d470\n",
      "Step 6/6 : CMD [\"python\", \"app.py\"]\n",
      " ---> Running in db4012465f7d\n",
      "Removing intermediate container db4012465f7d\n",
      " ---> 63605e706d07\n",
      "Successfully built 63605e706d07\n",
      "Successfully tagged demo:latest\n",
      "\u001b[33mWARNING\u001b[0m: Image for service demo was built because it did not already exist. To rebuild this image you must use `docker-compose build` or `docker-compose up --build`.\n",
      "Creating demo ... \n",
      "\u001b[1Bting demo ... \u001b[32mdone\u001b[0m"
     ]
    }
   ],
   "source": [
    "# Build and run same service as before\n",
    "!docker-compose up -d"
   ]
  },
  {
   "cell_type": "code",
   "execution_count": 52,
   "metadata": {},
   "outputs": [
    {
     "name": "stdout",
     "output_type": "stream",
     "text": [
      "Stopping demo ... \n",
      "\u001b[1Bping demo ... \u001b[32mdone\u001b[0mRemoving demo ... \n",
      "\u001b[1BRemoving network intro_to_docker_default\n"
     ]
    }
   ],
   "source": [
    "# Shut down and remove service\n",
    "!docker-compose down"
   ]
  },
  {
   "cell_type": "markdown",
   "metadata": {},
   "source": [
    "## Complex Example\n",
    "\n",
    "For this example, we will start up a hadoop cluster that is capable of using hive.\n",
    "\n",
    "Using this repo\n",
    "\n",
    "https://github.com/big-data-europe/docker-hive"
   ]
  },
  {
   "cell_type": "code",
   "execution_count": 55,
   "metadata": {},
   "outputs": [
    {
     "name": "stdout",
     "output_type": "stream",
     "text": [
      "Cloning into 'docker-hive'...\n",
      "remote: Enumerating objects: 127, done.\u001b[K\n",
      "remote: Total 127 (delta 0), reused 0 (delta 0), pack-reused 127\u001b[K\n",
      "Receiving objects: 100% (127/127), 30.70 KiB | 10.23 MiB/s, done.\n",
      "Resolving deltas: 100% (66/66), done.\n"
     ]
    }
   ],
   "source": [
    "!git clone git@github.com:big-data-europe/docker-hive.git"
   ]
  },
  {
   "cell_type": "code",
   "execution_count": 56,
   "metadata": {},
   "outputs": [
    {
     "name": "stdout",
     "output_type": "stream",
     "text": [
      "Creating network \"docker-hive_default\" with the default driver\n",
      "Creating volume \"docker-hive_namenode\" with default driver\n",
      "Creating volume \"docker-hive_datanode\" with default driver\n",
      "Pulling namenode (bde2020/hadoop-namenode:2.0.0-hadoop2.7.4-java8)...\n",
      "2.0.0-hadoop2.7.4-java8: Pulling from bde2020/hadoop-namenode\n",
      "\n",
      "\u001b[1Bf87b52c1: Pulling fs layer\n",
      "\u001b[1Bb563ad5e: Pulling fs layer\n",
      "\u001b[1B1ffa5626: Pulling fs layer\n",
      "\u001b[1B0e4b5de7: Pulling fs layer\n",
      "\u001b[1B35d29f88: Pulling fs layer\n",
      "\u001b[1Bf205e109: Pulling fs layer\n",
      "\u001b[1B864ab017: Pulling fs layer\n",
      "\u001b[1B9b117fd9: Pulling fs layer\n",
      "\u001b[1Bf32bfdd6: Pulling fs layer\n",
      "\u001b[1B04c9f21e: Pulling fs layer\n",
      "\u001b[1B93d9ab2a: Pulling fs layer\n",
      "\u001b[2B93d9ab2a: Waiting fs layer\n",
      "\u001b[2B5a1f3ed5: Waiting fs layer\n",
      "\u001b[1B0e2fb479: Pulling fs layer\n",
      "\u001b[1B04cc05e4: Pulling fs layer\n",
      "Digest: sha256:54a9482c51d4e701e530f15ef2e01ca2d3a15545760c42ea6ad0e65e8196c335    355B/355B1kBB[14A\u001b[2K\u001b[16A\u001b[2K\u001b[14A\u001b[2K\u001b[16A\u001b[2K\u001b[14A\u001b[2K\u001b[16A\u001b[2K\u001b[13A\u001b[2K\u001b[16A\u001b[2K\u001b[13A\u001b[2K\u001b[13A\u001b[2K\u001b[13A\u001b[2K\u001b[13A\u001b[2K\u001b[13A\u001b[2K\u001b[13A\u001b[2K\u001b[16A\u001b[2K\u001b[13A\u001b[2K\u001b[16A\u001b[2K\u001b[14A\u001b[2K\u001b[16A\u001b[2K\u001b[13A\u001b[2K\u001b[16A\u001b[2K\u001b[14A\u001b[2K\u001b[14A\u001b[2K\u001b[14A\u001b[2K\u001b[14A\u001b[2K\u001b[14A\u001b[2K\u001b[16A\u001b[2K\u001b[14A\u001b[2K\u001b[16A\u001b[2K\u001b[16A\u001b[2K\u001b[12A\u001b[2K\u001b[16A\u001b[2K\u001b[12A\u001b[2K\u001b[16A\u001b[2K\u001b[16A\u001b[2K\u001b[16A\u001b[2K\u001b[11A\u001b[2K\u001b[16A\u001b[2K\u001b[14A\u001b[2K\u001b[11A\u001b[2K\u001b[14A\u001b[2K\u001b[14A\u001b[2K\u001b[16A\u001b[2K\u001b[14A\u001b[2K\u001b[16A\u001b[2K\u001b[10A\u001b[2K\u001b[16A\u001b[2K\u001b[10A\u001b[2K\u001b[16A\u001b[2K\u001b[14A\u001b[2K\u001b[9A\u001b[2K\u001b[10A\u001b[2K\u001b[16A\u001b[2K\u001b[10A\u001b[2K\u001b[8A\u001b[2K\u001b[8A\u001b[2K\u001b[7A\u001b[2K\u001b[10A\u001b[2K\u001b[16A\u001b[2K\u001b[10A\u001b[2K\u001b[16A\u001b[2K\u001b[10A\u001b[2K\u001b[16A\u001b[2K\u001b[10A\u001b[2K\u001b[5A\u001b[2K\u001b[5A\u001b[2K\u001b[16A\u001b[2K\u001b[10A\u001b[2K\u001b[4A\u001b[2K\u001b[10A\u001b[2K\u001b[10A\u001b[2K\u001b[16A\u001b[2K\u001b[16A\u001b[2K\u001b[10A\u001b[2K\u001b[2A\u001b[2K\u001b[15A\u001b[2K\u001b[10A\u001b[2K\u001b[14A\u001b[2K\u001b[10A\u001b[2K\u001b[14A\u001b[2K\u001b[10A\u001b[2K\u001b[14A\u001b[2K\u001b[10A\u001b[2K\u001b[14A\u001b[2K\u001b[10A\u001b[2K\u001b[14A\u001b[2K\u001b[10A\u001b[2K\u001b[14A\u001b[2K\u001b[10A\u001b[2K\u001b[14A\u001b[2K\u001b[10A\u001b[2K\u001b[14A\u001b[2K\u001b[10A\u001b[2K\u001b[14A\u001b[2K\u001b[14A\u001b[2K\u001b[14A\u001b[2K\u001b[10A\u001b[2K\u001b[10A\u001b[2K\u001b[10A\u001b[2K\u001b[10A\u001b[2K\u001b[10A\u001b[2K\u001b[10A\u001b[2K\u001b[14A\u001b[2K\u001b[10A\u001b[2K\u001b[14A\u001b[2K\u001b[10A\u001b[2K\u001b[14A\u001b[2K\u001b[10A\u001b[2K\u001b[14A\u001b[2K\u001b[10A\u001b[2K\u001b[14A\u001b[2K\u001b[14A\u001b[2K\u001b[14A\u001b[2K\u001b[14A\u001b[2K\u001b[10A\u001b[2K\u001b[14A\u001b[2K\u001b[10A\u001b[2K\u001b[14A\u001b[2K\u001b[10A\u001b[2K\u001b[14A\u001b[2K\u001b[10A\u001b[2K\u001b[14A\u001b[2K\u001b[10A\u001b[2K\u001b[14A\u001b[2K\u001b[10A\u001b[2K\u001b[14A\u001b[2K\u001b[10A\u001b[2K\u001b[14A\u001b[2K\u001b[10A\u001b[2K\u001b[14A\u001b[2K\u001b[14A\u001b[2K\u001b[10A\u001b[2K\u001b[10A\u001b[2K\u001b[14A\u001b[2K\u001b[14A\u001b[2K\u001b[13A\u001b[2K\u001b[13A\u001b[2K\u001b[13A\u001b[2K\u001b[12A\u001b[2K\u001b[11A\u001b[2K\u001b[10A\u001b[2K\u001b[10A\u001b[2K\u001b[10A\u001b[2K\u001b[10A\u001b[2K\u001b[10A\u001b[2K\u001b[10A\u001b[2K\u001b[10A\u001b[2K\u001b[10A\u001b[2K\u001b[10A\u001b[2K\u001b[10A\u001b[2K\u001b[10A\u001b[2K\u001b[10A\u001b[2K\u001b[10A\u001b[2K\u001b[10A\u001b[2K\u001b[10A\u001b[2K\u001b[10A\u001b[2K\u001b[10A\u001b[2K\u001b[10A\u001b[2K\u001b[10A\u001b[2K\u001b[10A\u001b[2K\u001b[10A\u001b[2K\u001b[10A\u001b[2K\u001b[10A\u001b[2K\u001b[10A\u001b[2K\u001b[10A\u001b[2K\u001b[10A\u001b[2K\u001b[10A\u001b[2K\u001b[10A\u001b[2K\u001b[10A\u001b[2K\u001b[10A\u001b[2K\u001b[10A\u001b[2K\u001b[10A\u001b[2K\u001b[10A\u001b[2K\u001b[10A\u001b[2K\u001b[10A\u001b[2K\u001b[10A\u001b[2K\u001b[10A\u001b[2K\u001b[10A\u001b[2K\u001b[10A\u001b[2K\u001b[10A\u001b[2K\u001b[10A\u001b[2K\u001b[10A\u001b[2K\u001b[10A\u001b[2K\u001b[10A\u001b[2K\u001b[10A\u001b[2K\u001b[10A\u001b[2K\u001b[10A\u001b[2K\u001b[10A\u001b[2K\u001b[10A\u001b[2K\u001b[10A\u001b[2K\u001b[10A\u001b[2K\u001b[10A\u001b[2K\u001b[9A\u001b[2K\u001b[8A\u001b[2K\u001b[7A\u001b[2K\u001b[7A\u001b[2K\u001b[6A\u001b[2K\u001b[5A\u001b[2K\u001b[4A\u001b[2K\u001b[4A\u001b[2K\u001b[3A\u001b[2K\u001b[2A\u001b[2K\u001b[1A\u001b[2K\n",
      "Status: Downloaded newer image for bde2020/hadoop-namenode:2.0.0-hadoop2.7.4-java8\n",
      "Pulling datanode (bde2020/hadoop-datanode:2.0.0-hadoop2.7.4-java8)...\n",
      "2.0.0-hadoop2.7.4-java8: Pulling from bde2020/hadoop-datanode\n",
      "\n",
      "\u001b[1Bf87b52c1: Already exists\n",
      "\u001b[1Bb563ad5e: Already exists\n",
      "\u001b[1B1ffa5626: Already exists\n",
      "\u001b[1B0e4b5de7: Already exists\n",
      "\u001b[1B35d29f88: Already exists\n",
      "\u001b[1Bf205e109: Already exists\n",
      "\u001b[1B864ab017: Already exists\n",
      "\u001b[1B9b117fd9: Already exists\n",
      "\u001b[1Bf32bfdd6: Already exists\n",
      "\u001b[1B04c9f21e: Already exists\n",
      "\u001b[1B93d9ab2a: Already exists\n",
      "\u001b[1B5a1f3ed5: Already exists\n",
      "\u001b[1B1eca7232: Already exists\n",
      "\u001b[1B7d66f7cf: Pulling fs layer\n",
      "\u001b[1Baa104708: Pulling fs layer\n",
      "Digest: sha256:5623fca5e36d890983cdc6cfd29744d1d65476528117975b3af6a80d99b3c62f    277B/277BB\u001b[3A\u001b[2K\u001b[2A\u001b[2K\u001b[1A\u001b[2K\n",
      "Status: Downloaded newer image for bde2020/hadoop-datanode:2.0.0-hadoop2.7.4-java8\n",
      "Pulling hive-server (bde2020/hive:2.3.2-postgresql-metastore)...\n",
      "2.3.2-postgresql-metastore: Pulling from bde2020/hive\n",
      "\n",
      "\u001b[1Bf87b52c1: Already exists\n",
      "\u001b[1Bb563ad5e: Already exists\n",
      "\u001b[1B1ffa5626: Already exists\n",
      "\u001b[1B0e4b5de7: Already exists\n",
      "\u001b[1B35d29f88: Already exists\n",
      "\u001b[1Bf205e109: Already exists\n",
      "\u001b[1B864ab017: Already exists\n",
      "\u001b[1B9b117fd9: Already exists\n",
      "\u001b[1Bf32bfdd6: Already exists\n",
      "\u001b[1B04c9f21e: Already exists\n",
      "\u001b[1B93d9ab2a: Already exists\n",
      "\u001b[1B5a1f3ed5: Already exists\n",
      "\u001b[1B1eca7232: Already exists\n",
      "\u001b[1B394e4df8: Pulling fs layer\n",
      "\u001b[1B99eb8fe9: Pulling fs layer\n",
      "\u001b[1Bd88d8f9f: Pulling fs layer\n",
      "\u001b[1Bef891e28: Pulling fs layer\n",
      "\u001b[1Be8741fb6: Pulling fs layer\n",
      "\u001b[1Bff77d585: Pulling fs layer\n",
      "\u001b[1B71febc9f: Pulling fs layer\n",
      "\u001b[1Bcec16415: Pulling fs layer\n",
      "\u001b[1B2dae03c0: Pulling fs layer\n",
      "\u001b[1B7ce0424c: Pulling fs layer\n",
      "\u001b[1Bd508e3eb: Pulling fs layer\n",
      "Digest: sha256:620267768985bb57e52a86db9263a354e92d0202319d835678852539b21e0895 1.561kB/1.561kBB0A\u001b[2K\u001b[12A\u001b[2K\u001b[12A\u001b[2K\u001b[8A\u001b[2K\u001b[12A\u001b[2K\u001b[12A\u001b[2K\u001b[12A\u001b[2K\u001b[12A\u001b[2K\u001b[12A\u001b[2K\u001b[6A\u001b[2K\u001b[7A\u001b[2K\u001b[12A\u001b[2K\u001b[12A\u001b[2K\u001b[12A\u001b[2K\u001b[12A\u001b[2K\u001b[5A\u001b[2K\u001b[5A\u001b[2K\u001b[12A\u001b[2K\u001b[12A\u001b[2K\u001b[12A\u001b[2K\u001b[12A\u001b[2K\u001b[2A\u001b[2K\u001b[3A\u001b[2K\u001b[12A\u001b[2K\u001b[12A\u001b[2K\u001b[12A\u001b[2K\u001b[12A\u001b[2K\u001b[12A\u001b[2K\u001b[1A\u001b[2K\u001b[1A\u001b[2K\u001b[12A\u001b[2K\u001b[12A\u001b[2K\u001b[12A\u001b[2K\u001b[12A\u001b[2K\u001b[12A\u001b[2K\u001b[12A\u001b[2K\u001b[12A\u001b[2K\u001b[12A\u001b[2K\u001b[12A\u001b[2K\u001b[12A\u001b[2K\u001b[12A\u001b[2K\u001b[12A\u001b[2K\u001b[12A\u001b[2K\u001b[12A\u001b[2K\u001b[12A\u001b[2K\u001b[12A\u001b[2K\u001b[12A\u001b[2K\u001b[12A\u001b[2K\u001b[12A\u001b[2K\u001b[12A\u001b[2K\u001b[12A\u001b[2K\u001b[12A\u001b[2K\u001b[12A\u001b[2K\u001b[12A\u001b[2K\u001b[12A\u001b[2K\u001b[12A\u001b[2K\u001b[12A\u001b[2K\u001b[12A\u001b[2K\u001b[12A\u001b[2K\u001b[12A\u001b[2K\u001b[12A\u001b[2K\u001b[12A\u001b[2K\u001b[12A\u001b[2K\u001b[12A\u001b[2K\u001b[12A\u001b[2K\u001b[12A\u001b[2K\u001b[12A\u001b[2K\u001b[12A\u001b[2K\u001b[12A\u001b[2K\u001b[12A\u001b[2K\u001b[12A\u001b[2K\u001b[12A\u001b[2K\u001b[12A\u001b[2K\u001b[12A\u001b[2K\u001b[12A\u001b[2K\u001b[12A\u001b[2K\u001b[12A\u001b[2K\u001b[12A\u001b[2K\u001b[12A\u001b[2K\u001b[11A\u001b[2K\u001b[10A\u001b[2K\u001b[9A\u001b[2K\u001b[8A\u001b[2K\u001b[7A\u001b[2K\u001b[6A\u001b[2K\u001b[5A\u001b[2K\u001b[4A\u001b[2K\u001b[3A\u001b[2K\u001b[2A\u001b[2K\u001b[1A\u001b[2K\n",
      "Status: Downloaded newer image for bde2020/hive:2.3.2-postgresql-metastore\n",
      "Pulling hive-metastore-postgresql (bde2020/hive-metastore-postgresql:2.3.0)...\n",
      "2.3.0: Pulling from bde2020/hive-metastore-postgresql\n",
      "\n",
      "\u001b[1Bd4a2d1a8: Pulling fs layer\n",
      "\u001b[1B7bfd13a9: Pulling fs layer\n",
      "\u001b[1B1b297acc: Pulling fs layer\n",
      "\u001b[1B453338b4: Pulling fs layer\n",
      "\u001b[1Be0d7a283: Pulling fs layer\n",
      "\u001b[1B5f5c0dad: Pulling fs layer\n",
      "\u001b[1B75ce88d9: Pulling fs layer\n",
      "\u001b[1B6c680a34: Pulling fs layer\n",
      "\u001b[1B2c220bff: Pulling fs layer\n",
      "\u001b[1Bfb78ded6: Pulling fs layer\n",
      "\u001b[1B56ba118b: Pulling fs layer\n",
      "\u001b[1B5217752f: Pulling fs layer\n",
      "\u001b[1B0114fba9: Pulling fs layer\n",
      "Digest: sha256:b0c907add4c5c9a7d89425405e4f91abb12594a809ad5f3240bb7d14a9da429e    499B/499B1kBB\u001b[14A\u001b[2K\u001b[14A\u001b[2K\u001b[11A\u001b[2K\u001b[11A\u001b[2K\u001b[10A\u001b[2K\u001b[11A\u001b[2K\u001b[14A\u001b[2K\u001b[11A\u001b[2K\u001b[14A\u001b[2K\u001b[11A\u001b[2K\u001b[14A\u001b[2K\u001b[11A\u001b[2K\u001b[14A\u001b[2K\u001b[11A\u001b[2K\u001b[14A\u001b[2K\u001b[9A\u001b[2K\u001b[14A\u001b[2K\u001b[14A\u001b[2K\u001b[14A\u001b[2K\u001b[14A\u001b[2K\u001b[14A\u001b[2K\u001b[7A\u001b[2K\u001b[7A\u001b[2K\u001b[6A\u001b[2K\u001b[7A\u001b[2K\u001b[5A\u001b[2K\u001b[14A\u001b[2K\u001b[7A\u001b[2K\u001b[4A\u001b[2K\u001b[4A\u001b[2K\u001b[14A\u001b[2K\u001b[14A\u001b[2K\u001b[7A\u001b[2K\u001b[14A\u001b[2K\u001b[7A\u001b[2K\u001b[7A\u001b[2K\u001b[2A\u001b[2K\u001b[2A\u001b[2K\u001b[1A\u001b[2K\u001b[14A\u001b[2K\u001b[14A\u001b[2K\u001b[14A\u001b[2K\u001b[14A\u001b[2K\u001b[14A\u001b[2K\u001b[14A\u001b[2K\u001b[14A\u001b[2K\u001b[14A\u001b[2K\u001b[14A\u001b[2K\u001b[14A\u001b[2K\u001b[13A\u001b[2K\u001b[12A\u001b[2K\u001b[12A\u001b[2K\u001b[11A\u001b[2K\u001b[11A\u001b[2K\u001b[11A\u001b[2K\u001b[10A\u001b[2K\u001b[10A\u001b[2K\u001b[9A\u001b[2K\u001b[8A\u001b[2K\u001b[7A\u001b[2K\u001b[7A\u001b[2K\u001b[7A\u001b[2K\u001b[7A\u001b[2K\u001b[7A\u001b[2K\u001b[7A\u001b[2K\u001b[7A\u001b[2K\u001b[7A\u001b[2K\u001b[7A\u001b[2K\u001b[7A\u001b[2K\u001b[7A\u001b[2K\u001b[7A\u001b[2K\u001b[7A\u001b[2K\u001b[7A\u001b[2K\u001b[7A\u001b[2K\u001b[7A\u001b[2K\u001b[6A\u001b[2K\u001b[5A\u001b[2K\u001b[4A\u001b[2K\u001b[3A\u001b[2K\u001b[2A\u001b[2K\u001b[1A\u001b[2K\n",
      "Status: Downloaded newer image for bde2020/hive-metastore-postgresql:2.3.0\n",
      "Pulling presto-coordinator (shawnzhu/prestodb:0.181)...\n",
      "0.181: Pulling from shawnzhu/prestodb\n",
      "\n",
      "\u001b[1B7a3ef358: Pulling fs layer\n",
      "\u001b[1B297beaf1: Pulling fs layer\n",
      "\u001b[1Bbd3d7fec: Pulling fs layer\n",
      "\u001b[1B41c845ed: Pulling fs layer\n",
      "\u001b[1Bcca5b76b: Pulling fs layer\n",
      "\u001b[1B227500b0: Pulling fs layer\n",
      "\u001b[1B117ffd91: Pulling fs layer\n",
      "\u001b[1B1547b435: Pulling fs layer\n",
      "\u001b[1Bcd7022f9: Pulling fs layer\n",
      "\u001b[1B8ae151f4: Pulling fs layer\n",
      "\u001b[1Bdad952fc: Pulling fs layer\n",
      "\u001b[1B5ba1a0f9: Pulling fs layer\n",
      "\u001b[1B1f13fb6a: Pulling fs layer\n",
      "\u001b[1B1e496ee1: Pulling fs layer\n",
      "\u001b[1B35f1d6a7: Pulling fs layer\n",
      "\u001b[1Bf691c243: Pulling fs layer\n",
      "\u001b[1B225c721b: Pulling fs layer\n",
      "\u001b[1B318013a5: Pulling fs layer\n",
      "\u001b[1B5d108f7e: Pulling fs layer\n",
      "Digest: sha256:74237b72a6f058dafc282e535dde93f470ac6e4e729fa0fe5342e494d5c4b7c4    643B/643BBBBB\u001b[18A\u001b[2K\u001b[19A\u001b[2K\u001b[20A\u001b[2K\u001b[18A\u001b[2K\u001b[20A\u001b[2K\u001b[18A\u001b[2K\u001b[19A\u001b[2K\u001b[18A\u001b[2K\u001b[19A\u001b[2K\u001b[18A\u001b[2K\u001b[20A\u001b[2K\u001b[18A\u001b[2K\u001b[19A\u001b[2K\u001b[18A\u001b[2K\u001b[19A\u001b[2K\u001b[18A\u001b[2K\u001b[19A\u001b[2K\u001b[20A\u001b[2K\u001b[20A\u001b[2K\u001b[20A\u001b[2K\u001b[20A\u001b[2K\u001b[18A\u001b[2K\u001b[20A\u001b[2K\u001b[20A\u001b[2K\u001b[20A\u001b[2K\u001b[18A\u001b[2K\u001b[20A\u001b[2K\u001b[18A\u001b[2K\u001b[20A\u001b[2K\u001b[17A\u001b[2K\u001b[17A\u001b[2K\u001b[18A\u001b[2K\u001b[16A\u001b[2K\u001b[15A\u001b[2K\u001b[20A\u001b[2K\u001b[13A\u001b[2K\u001b[13A\u001b[2K\u001b[20A\u001b[2K\u001b[14A\u001b[2K\u001b[14A\u001b[2K\u001b[12A\u001b[2K\u001b[12A\u001b[2K\u001b[12A\u001b[2K\u001b[20A\u001b[2K\u001b[14A\u001b[2K\u001b[20A\u001b[2K\u001b[20A\u001b[2K\u001b[20A\u001b[2K\u001b[12A\u001b[2K\u001b[14A\u001b[2K\u001b[12A\u001b[2K\u001b[20A\u001b[2K\u001b[12A\u001b[2K\u001b[12A\u001b[2K\u001b[12A\u001b[2K\u001b[20A\u001b[2K\u001b[20A\u001b[2K\u001b[14A\u001b[2K\u001b[20A\u001b[2K\u001b[14A\u001b[2K\u001b[20A\u001b[2K\u001b[20A\u001b[2K\u001b[20A\u001b[2K\u001b[19A\u001b[2K\u001b[14A\u001b[2K\u001b[19A\u001b[2K\u001b[14A\u001b[2K\u001b[19A\u001b[2K\u001b[19A\u001b[2K\u001b[19A\u001b[2K\u001b[19A\u001b[2K\u001b[18A\u001b[2K\u001b[14A\u001b[2K\u001b[18A\u001b[2K\u001b[14A\u001b[2K\u001b[18A\u001b[2K\u001b[18A\u001b[2K\u001b[14A\u001b[2K\u001b[18A\u001b[2K\u001b[14A\u001b[2K\u001b[18A\u001b[2K\u001b[14A\u001b[2K\u001b[18A\u001b[2K\u001b[18A\u001b[2K\u001b[14A\u001b[2K\u001b[18A\u001b[2K\u001b[14A\u001b[2K\u001b[18A\u001b[2K\u001b[14A\u001b[2K\u001b[18A\u001b[2K\u001b[18A\u001b[2K\u001b[14A\u001b[2K\u001b[18A\u001b[2K\u001b[14A\u001b[2K\u001b[9A\u001b[2K\u001b[18A\u001b[2K\u001b[14A\u001b[2K\u001b[8A\u001b[2K\u001b[9A\u001b[2K\u001b[14A\u001b[2K\u001b[9A\u001b[2K\u001b[18A\u001b[2K\u001b[9A\u001b[2K\u001b[18A\u001b[2K\u001b[9A\u001b[2K\u001b[14A\u001b[2K\u001b[18A\u001b[2K\u001b[14A\u001b[2K\u001b[9A\u001b[2K\u001b[14A\u001b[2K\u001b[9A\u001b[2K\u001b[14A\u001b[2K\u001b[9A\u001b[2K\u001b[14A\u001b[2K\u001b[14A\u001b[2K\u001b[9A\u001b[2K\u001b[14A\u001b[2K\u001b[18A\u001b[2K\u001b[9A\u001b[2K\u001b[14A\u001b[2K\u001b[17A\u001b[2K\u001b[14A\u001b[2K\u001b[9A\u001b[2K\u001b[9A\u001b[2K\u001b[14A\u001b[2K\u001b[9A\u001b[2K\u001b[14A\u001b[2K\u001b[14A\u001b[2K\u001b[14A\u001b[2K\u001b[9A\u001b[2K\u001b[14A\u001b[2K\u001b[14A\u001b[2K\u001b[14A\u001b[2K\u001b[9A\u001b[2K\u001b[14A\u001b[2K\u001b[9A\u001b[2K\u001b[14A\u001b[2K\u001b[14A\u001b[2K\u001b[14A\u001b[2K\u001b[9A\u001b[2K\u001b[5A\u001b[2K\u001b[9A\u001b[2K\u001b[9A\u001b[2K\u001b[14A\u001b[2K\u001b[3A\u001b[2K\u001b[9A\u001b[2K\u001b[4A\u001b[2K\u001b[9A\u001b[2K\u001b[9A\u001b[2K\u001b[14A\u001b[2K\u001b[9A\u001b[2K\u001b[14A\u001b[2K\u001b[9A\u001b[2K\u001b[1A\u001b[2K\u001b[9A\u001b[2K\u001b[14A\u001b[2K\u001b[9A\u001b[2K\u001b[14A\u001b[2K\u001b[9A\u001b[2K\u001b[14A\u001b[2K\u001b[2A\u001b[2K\u001b[14A\u001b[2K\u001b[9A\u001b[2K\u001b[14A\u001b[2K\u001b[9A\u001b[2K\u001b[14A\u001b[2K\u001b[14A\u001b[2K\u001b[9A\u001b[2K\u001b[14A\u001b[2K\u001b[9A\u001b[2K\u001b[14A\u001b[2K\u001b[14A\u001b[2K\u001b[14A\u001b[2K\u001b[2A\u001b[2K\u001b[14A\u001b[2K\u001b[9A\u001b[2K\u001b[2A\u001b[2K\u001b[9A\u001b[2K\u001b[2A\u001b[2K\u001b[9A\u001b[2K\u001b[14A\u001b[2K\u001b[9A\u001b[2K\u001b[2A\u001b[2K\u001b[9A\u001b[2K\u001b[9A\u001b[2K\u001b[14A\u001b[2K\u001b[14A\u001b[2K\u001b[9A\u001b[2K\u001b[14A\u001b[2K\u001b[2A\u001b[2K\u001b[9A\u001b[2K\u001b[2A\u001b[2K\u001b[9A\u001b[2K\u001b[2A\u001b[2K\u001b[9A\u001b[2K\u001b[9A\u001b[2K\u001b[14A\u001b[2K\u001b[9A\u001b[2K\u001b[2A\u001b[2K\u001b[9A\u001b[2K\u001b[14A\u001b[2K\u001b[14A\u001b[2K\u001b[2A\u001b[2K\u001b[14A\u001b[2K\u001b[9A\u001b[2K\u001b[14A\u001b[2K\u001b[9A\u001b[2K\u001b[2A\u001b[2K\u001b[9A\u001b[2K\u001b[9A\u001b[2K\u001b[2A\u001b[2K\u001b[9A\u001b[2K\u001b[14A\u001b[2K\u001b[9A\u001b[2K\u001b[2A\u001b[2K\u001b[9A\u001b[2K\u001b[2A\u001b[2K\u001b[9A\u001b[2K\u001b[14A\u001b[2K\u001b[2A\u001b[2K\u001b[9A\u001b[2K\u001b[9A\u001b[2K\u001b[2A\u001b[2K\u001b[9A\u001b[2K\u001b[2A\u001b[2K\u001b[9A\u001b[2K\u001b[2A\u001b[2K\u001b[9A\u001b[2K\u001b[2A\u001b[2K\u001b[14A\u001b[2K\u001b[2A\u001b[2K\u001b[2A\u001b[2K\u001b[14A\u001b[2K\u001b[2A\u001b[2K\u001b[14A\u001b[2K\u001b[9A\u001b[2K\u001b[2A\u001b[2K\u001b[9A\u001b[2K\u001b[2A\u001b[2K\u001b[14A\u001b[2K\u001b[9A\u001b[2K\u001b[9A\u001b[2K\u001b[14A\u001b[2K\u001b[9A\u001b[2K\u001b[14A\u001b[2K\u001b[9A\u001b[2K\u001b[2A\u001b[2K\u001b[9A\u001b[2K\u001b[2A\u001b[2K\u001b[14A\u001b[2K\u001b[2A\u001b[2K\u001b[9A\u001b[2K\u001b[14A\u001b[2K\u001b[9A\u001b[2K\u001b[9A\u001b[2K\u001b[9A\u001b[2K\u001b[14A\u001b[2K\u001b[2A\u001b[2K\u001b[14A\u001b[2K\u001b[9A\u001b[2K\u001b[2A\u001b[2K\u001b[9A\u001b[2K\u001b[2A\u001b[2K\u001b[9A\u001b[2K\u001b[2A\u001b[2K\u001b[9A\u001b[2K\u001b[9A\u001b[2K\u001b[2A\u001b[2K\u001b[9A\u001b[2K\u001b[2A\u001b[2K\u001b[9A\u001b[2K\u001b[2A\u001b[2K\u001b[9A\u001b[2K\u001b[14A\u001b[2K\u001b[9A\u001b[2K\u001b[2A\u001b[2K\u001b[9A\u001b[2K\u001b[2A\u001b[2K\u001b[13A\u001b[2K\u001b[2A\u001b[2K\u001b[9A\u001b[2K\u001b[2A\u001b[2K\u001b[9A\u001b[2K\u001b[9A\u001b[2K\u001b[12A\u001b[2K\u001b[2A\u001b[2K\u001b[9A\u001b[2K\u001b[2A\u001b[2K\u001b[9A\u001b[2K\u001b[11A\u001b[2K\u001b[9A\u001b[2K\u001b[2A\u001b[2K\u001b[9A\u001b[2K\u001b[2A\u001b[2K\u001b[9A\u001b[2K\u001b[2A\u001b[2K\u001b[9A\u001b[2K\u001b[2A\u001b[2K\u001b[2A\u001b[2K\u001b[9A\u001b[2K\u001b[2A\u001b[2K\u001b[2A\u001b[2K\u001b[2A\u001b[2K\u001b[9A\u001b[2K\u001b[2A\u001b[2K\u001b[9A\u001b[2K\u001b[2A\u001b[2K\u001b[9A\u001b[2K\u001b[10A\u001b[2K\u001b[9A\u001b[2K\u001b[9A\u001b[2K\u001b[2A\u001b[2K\u001b[9A\u001b[2K\u001b[9A\u001b[2K\u001b[9A\u001b[2K\u001b[9A\u001b[2K\u001b[2A\u001b[2K\u001b[9A\u001b[2K\u001b[2A\u001b[2K\u001b[9A\u001b[2K\u001b[2A\u001b[2K\u001b[9A\u001b[2K\u001b[2A\u001b[2K\u001b[9A\u001b[2K\u001b[9A\u001b[2K\u001b[9A\u001b[2K\u001b[9A\u001b[2K\u001b[2A\u001b[2K\u001b[9A\u001b[2K\u001b[2A\u001b[2K\u001b[9A\u001b[2K\u001b[2A\u001b[2K\u001b[2A\u001b[2K\u001b[2A\u001b[2K\u001b[9A\u001b[2K\u001b[9A\u001b[2K\u001b[9A\u001b[2K\u001b[9A\u001b[2K\u001b[2A\u001b[2K\u001b[9A\u001b[2K\u001b[2A\u001b[2K\u001b[9A\u001b[2K\u001b[2A\u001b[2K\u001b[2A\u001b[2K\u001b[2A\u001b[2K\u001b[9A\u001b[2K\u001b[9A\u001b[2K\u001b[9A\u001b[2K\u001b[9A\u001b[2K\u001b[9A\u001b[2K\u001b[2A\u001b[2K\u001b[2A\u001b[2K\u001b[2A\u001b[2K\u001b[9A\u001b[2K\u001b[2A\u001b[2K\u001b[2A\u001b[2K\u001b[9A\u001b[2K\u001b[2A\u001b[2K\u001b[2A\u001b[2K\u001b[2A\u001b[2K\u001b[2A\u001b[2K\u001b[9A\u001b[2K\u001b[2A\u001b[2K\u001b[2A\u001b[2K\u001b[9A\u001b[2K\u001b[2A\u001b[2K\u001b[9A\u001b[2K\u001b[2A\u001b[2K\u001b[2A\u001b[2K\u001b[2A\u001b[2K\u001b[9A\u001b[2K\u001b[2A\u001b[2K\u001b[2A\u001b[2K\u001b[2A\u001b[2K\u001b[9A\u001b[2K\u001b[2A\u001b[2K\u001b[2A\u001b[2K\u001b[2A\u001b[2K\u001b[9A\u001b[2K\u001b[2A\u001b[2K\u001b[2A\u001b[2K\u001b[9A\u001b[2K\u001b[2A\u001b[2K\u001b[2A\u001b[2K\u001b[9A\u001b[2K\u001b[2A\u001b[2K\u001b[9A\u001b[2K\u001b[2A\u001b[2K\u001b[9A\u001b[2K\u001b[2A\u001b[2K\u001b[9A\u001b[2K\u001b[2A\u001b[2K\u001b[2A\u001b[2K\u001b[2A\u001b[2K\u001b[2A\u001b[2K\u001b[2A\u001b[2K\u001b[9A\u001b[2K\u001b[2A\u001b[2K\u001b[2A\u001b[2K\u001b[2A\u001b[2K\u001b[9A\u001b[2K\u001b[2A\u001b[2K\u001b[9A\u001b[2K\u001b[2A\u001b[2K\u001b[2A\u001b[2K\u001b[2A\u001b[2K\u001b[9A\u001b[2K\u001b[2A\u001b[2K\u001b[2A\u001b[2K\u001b[2A\u001b[2K\u001b[9A\u001b[2K\u001b[2A\u001b[2K\u001b[9A\u001b[2K\u001b[2A\u001b[2K\u001b[9A\u001b[2K\u001b[2A\u001b[2K\u001b[9A\u001b[2K\u001b[2A\u001b[2K\u001b[9A\u001b[2K\u001b[2A\u001b[2K\u001b[2A\u001b[2K\u001b[9A\u001b[2K\u001b[2A\u001b[2K\u001b[9A\u001b[2K\u001b[2A\u001b[2K\u001b[2A\u001b[2K\u001b[2A\u001b[2K\u001b[2A\u001b[2K\u001b[2A\u001b[2K\u001b[9A\u001b[2K\u001b[2A\u001b[2K\u001b[2A\u001b[2K\u001b[9A\u001b[2K\u001b[2A\u001b[2K\u001b[2A\u001b[2K\u001b[2A\u001b[2K\u001b[9A\u001b[2K\u001b[2A\u001b[2K\u001b[2A\u001b[2K\u001b[2A\u001b[2K\u001b[9A\u001b[2K\u001b[2A\u001b[2K\u001b[2A\u001b[2K\u001b[2A\u001b[2K\u001b[9A\u001b[2K\u001b[2A\u001b[2K\u001b[2A\u001b[2K\u001b[2A\u001b[2K\u001b[2A\u001b[2K\u001b[2A\u001b[2K\u001b[9A\u001b[2K\u001b[2A\u001b[2K\u001b[2A\u001b[2K\u001b[2A\u001b[2K\u001b[2A\u001b[2K\u001b[9A\u001b[2K\u001b[9A\u001b[2K\u001b[2A\u001b[2K\u001b[9A\u001b[2K\u001b[2A\u001b[2K\u001b[2A\u001b[2K\u001b[2A\u001b[2K\u001b[2A\u001b[2K\u001b[9A\u001b[2K\u001b[9A\u001b[2K\u001b[9A\u001b[2K\u001b[9A\u001b[2K\u001b[9A\u001b[2K\u001b[9A\u001b[2K\u001b[9A\u001b[2K\u001b[9A\u001b[2K\u001b[9A\u001b[2K\u001b[9A\u001b[2K\u001b[9A\u001b[2K\u001b[9A\u001b[2K\u001b[9A\u001b[2K\u001b[9A\u001b[2K\u001b[9A\u001b[2K\u001b[9A\u001b[2K\u001b[9A\u001b[2K\u001b[9A\u001b[2K\u001b[9A\u001b[2K\u001b[9A\u001b[2K\u001b[9A\u001b[2K\u001b[9A\u001b[2K\u001b[9A\u001b[2K\u001b[9A\u001b[2K\u001b[9A\u001b[2K\u001b[9A\u001b[2K\u001b[9A\u001b[2K\u001b[9A\u001b[2K\u001b[9A\u001b[2K\u001b[9A\u001b[2K\u001b[9A\u001b[2K\u001b[9A\u001b[2K\u001b[9A\u001b[2K\u001b[9A\u001b[2K\u001b[9A\u001b[2K\u001b[9A\u001b[2K\u001b[9A\u001b[2K\u001b[9A\u001b[2K\u001b[9A\u001b[2K\u001b[9A\u001b[2K\u001b[9A\u001b[2K\u001b[9A\u001b[2K\u001b[9A\u001b[2K\u001b[9A\u001b[2K\u001b[9A\u001b[2K\u001b[9A\u001b[2K\u001b[9A\u001b[2K\u001b[9A\u001b[2K\u001b[9A\u001b[2K\u001b[9A\u001b[2K\u001b[9A\u001b[2K\u001b[9A\u001b[2K\u001b[9A\u001b[2K\u001b[9A\u001b[2K\u001b[9A\u001b[2K\u001b[9A\u001b[2K\u001b[9A\u001b[2K\u001b[9A\u001b[2K\u001b[9A\u001b[2K\u001b[9A\u001b[2K\u001b[9A\u001b[2K\u001b[9A\u001b[2K\u001b[9A\u001b[2K\u001b[9A\u001b[2K\u001b[9A\u001b[2K\u001b[9A\u001b[2K\u001b[9A\u001b[2K\u001b[9A\u001b[2K\u001b[9A\u001b[2K\u001b[9A\u001b[2K\u001b[9A\u001b[2K\u001b[9A\u001b[2K\u001b[9A\u001b[2K\u001b[9A\u001b[2K\u001b[9A\u001b[2K\u001b[9A\u001b[2K\u001b[9A\u001b[2K\u001b[9A\u001b[2K\u001b[9A\u001b[2K\u001b[9A\u001b[2K\u001b[9A\u001b[2K\u001b[9A\u001b[2K\u001b[9A\u001b[2K\u001b[9A\u001b[2K\u001b[9A\u001b[2K\u001b[9A\u001b[2K\u001b[9A\u001b[2K\u001b[9A\u001b[2K\u001b[9A\u001b[2K\u001b[9A\u001b[2K\u001b[9A\u001b[2K\u001b[9A\u001b[2K\u001b[9A\u001b[2K\u001b[9A\u001b[2K\u001b[9A\u001b[2K\u001b[9A\u001b[2K\u001b[9A\u001b[2K\u001b[9A\u001b[2K\u001b[9A\u001b[2K\u001b[9A\u001b[2K\u001b[9A\u001b[2K\u001b[9A\u001b[2K\u001b[9A\u001b[2K\u001b[9A\u001b[2K\u001b[9A\u001b[2K\u001b[9A\u001b[2K\u001b[9A\u001b[2K\u001b[9A\u001b[2K\u001b[9A\u001b[2K\u001b[9A\u001b[2K\u001b[9A\u001b[2K\u001b[9A\u001b[2K\u001b[9A\u001b[2K\u001b[9A\u001b[2K\u001b[9A\u001b[2K\u001b[9A\u001b[2K\u001b[9A\u001b[2K\u001b[9A\u001b[2K\u001b[9A\u001b[2K\u001b[9A\u001b[2K\u001b[9A\u001b[2K\u001b[9A\u001b[2K\u001b[9A\u001b[2K\u001b[9A\u001b[2K\u001b[9A\u001b[2K\u001b[9A\u001b[2K\u001b[9A\u001b[2K\u001b[9A\u001b[2K\u001b[9A\u001b[2K\u001b[9A\u001b[2K\u001b[9A\u001b[2K\u001b[9A\u001b[2K\u001b[9A\u001b[2K\u001b[9A\u001b[2K\u001b[9A\u001b[2K\u001b[9A\u001b[2K\u001b[9A\u001b[2K\u001b[9A\u001b[2K\u001b[9A\u001b[2K\u001b[9A\u001b[2K\u001b[9A\u001b[2K\u001b[9A\u001b[2K\u001b[9A\u001b[2K\u001b[9A\u001b[2K\u001b[9A\u001b[2K\u001b[9A\u001b[2K\u001b[9A\u001b[2K\u001b[9A\u001b[2K\u001b[9A\u001b[2K\u001b[9A\u001b[2K\u001b[9A\u001b[2K\u001b[9A\u001b[2K\u001b[9A\u001b[2K\u001b[9A\u001b[2K\u001b[9A\u001b[2K\u001b[9A\u001b[2K\u001b[9A\u001b[2K\u001b[9A\u001b[2K\u001b[9A\u001b[2K\u001b[9A\u001b[2K\u001b[9A\u001b[2K\u001b[9A\u001b[2K\u001b[9A\u001b[2K\u001b[9A\u001b[2K\u001b[9A\u001b[2K\u001b[9A\u001b[2K\u001b[9A\u001b[2K\u001b[9A\u001b[2K\u001b[9A\u001b[2K\u001b[9A\u001b[2K\u001b[9A\u001b[2K\u001b[9A\u001b[2K\u001b[9A\u001b[2K\u001b[9A\u001b[2K\u001b[9A\u001b[2K\u001b[9A\u001b[2K\u001b[9A\u001b[2K\u001b[9A\u001b[2K\u001b[9A\u001b[2K\u001b[9A\u001b[2K\u001b[9A\u001b[2K\u001b[9A\u001b[2K\u001b[9A\u001b[2K\u001b[9A\u001b[2K\u001b[9A\u001b[2K\u001b[9A\u001b[2K\u001b[9A\u001b[2K\u001b[9A\u001b[2K\u001b[9A\u001b[2K\u001b[9A\u001b[2K\u001b[9A\u001b[2K\u001b[9A\u001b[2K\u001b[9A\u001b[2K\u001b[9A\u001b[2K\u001b[9A\u001b[2K\u001b[9A\u001b[2K\u001b[9A\u001b[2K\u001b[9A\u001b[2K\u001b[9A\u001b[2K\u001b[9A\u001b[2K\u001b[9A\u001b[2K\u001b[9A\u001b[2K\u001b[9A\u001b[2K\u001b[9A\u001b[2K\u001b[9A\u001b[2K\u001b[9A\u001b[2K\u001b[9A\u001b[2K\u001b[9A\u001b[2K\u001b[9A\u001b[2K\u001b[9A\u001b[2K\u001b[9A\u001b[2K\u001b[8A\u001b[2K\u001b[7A\u001b[2K\u001b[6A\u001b[2K\u001b[5A\u001b[2K\u001b[4A\u001b[2K\u001b[3A\u001b[2K\u001b[2A\u001b[2K\u001b[2A\u001b[2K\u001b[2A\u001b[2K\u001b[2A\u001b[2K\u001b[2A\u001b[2K\u001b[2A\u001b[2K\u001b[2A\u001b[2K\u001b[2A\u001b[2K\u001b[2A\u001b[2K\u001b[2A\u001b[2K\u001b[2A\u001b[2K\u001b[2A\u001b[2K\u001b[2A\u001b[2K\u001b[2A\u001b[2K\u001b[2A\u001b[2K\u001b[2A\u001b[2K\u001b[2A\u001b[2K\u001b[2A\u001b[2K\u001b[2A\u001b[2K\u001b[2A\u001b[2K\u001b[2A\u001b[2K\u001b[2A\u001b[2K\u001b[2A\u001b[2K\u001b[2A\u001b[2K\u001b[2A\u001b[2K\u001b[2A\u001b[2K\u001b[2A\u001b[2K\u001b[2A\u001b[2K\u001b[2A\u001b[2K\u001b[2A\u001b[2K\u001b[2A\u001b[2K\u001b[2A\u001b[2K\u001b[2A\u001b[2K\u001b[2A\u001b[2K\u001b[2A\u001b[2K\u001b[2A\u001b[2K\u001b[2A\u001b[2K\u001b[2A\u001b[2K\u001b[2A\u001b[2K\u001b[2A\u001b[2K\u001b[2A\u001b[2K\u001b[2A\u001b[2K\u001b[2A\u001b[2K\u001b[2A\u001b[2K\u001b[2A\u001b[2K\u001b[2A\u001b[2K\u001b[2A\u001b[2K\u001b[2A\u001b[2K\u001b[2A\u001b[2K\u001b[2A\u001b[2K\u001b[2A\u001b[2K\u001b[2A\u001b[2K\u001b[1A\u001b[2K\n",
      "Status: Downloaded newer image for shawnzhu/prestodb:0.181\n",
      "Creating docker-hive_presto-coordinator_1 ... \n",
      "Creating docker-hive_hive-metastore-postgresql_1 ... \n",
      "Creating docker-hive_hive-metastore_1            ... \n",
      "Creating docker-hive_datanode_1                  ... \n",
      "Creating docker-hive_namenode_1                  ... \n",
      "Creating docker-hive_hive-server_1               ... \n",
      "\u001b[6Bting docker-hive_presto-coordinator_1        ... \u001b[32mdone\u001b[0m\u001b[4A\u001b[2K\u001b[3A\u001b[2K\u001b[1A\u001b[2K"
     ]
    }
   ],
   "source": [
    "!docker-compose -f docker-hive/docker-compose.yml up -d"
   ]
  },
  {
   "cell_type": "code",
   "execution_count": 57,
   "metadata": {},
   "outputs": [
    {
     "name": "stdout",
     "output_type": "stream",
     "text": [
      "CONTAINER ID        IMAGE                                             COMMAND                  CREATED              STATUS                        PORTS                                          NAMES\n",
      "b0291d9f7e1f        bde2020/hive:2.3.2-postgresql-metastore           \"entrypoint.sh /opt/…\"   About a minute ago   Up About a minute             10000/tcp, 0.0.0.0:9083->9083/tcp, 10002/tcp   docker-hive_hive-metastore_1\n",
      "8037e6d85e1f        bde2020/hadoop-namenode:2.0.0-hadoop2.7.4-java8   \"/entrypoint.sh /run…\"   About a minute ago   Up About a minute (healthy)   0.0.0.0:50070->50070/tcp                       docker-hive_namenode_1\n",
      "9ba4fa882931        bde2020/hadoop-datanode:2.0.0-hadoop2.7.4-java8   \"/entrypoint.sh /run…\"   About a minute ago   Up About a minute (healthy)   0.0.0.0:50075->50075/tcp                       docker-hive_datanode_1\n",
      "4a8b3da18ba2        bde2020/hive:2.3.2-postgresql-metastore           \"entrypoint.sh /bin/…\"   About a minute ago   Up About a minute             0.0.0.0:10000->10000/tcp, 10002/tcp            docker-hive_hive-server_1\n",
      "ae7d4dbfe27c        shawnzhu/prestodb:0.181                           \"./bin/launcher run\"     About a minute ago   Up About a minute             0.0.0.0:8080->8080/tcp                         docker-hive_presto-coordinator_1\n",
      "7ca07fbd7520        bde2020/hive-metastore-postgresql:2.3.0           \"/docker-entrypoint.…\"   About a minute ago   Up About a minute             5432/tcp                                       docker-hive_hive-metastore-postgresql_1\n"
     ]
    }
   ],
   "source": [
    "# Show running containers\n",
    "!docker ps"
   ]
  },
  {
   "cell_type": "markdown",
   "metadata": {},
   "source": [
    "## Testing\n",
    "Load data into Hive:\n",
    "```\n",
    "  $ docker-compose exec hive-server bash\n",
    "  # /opt/hive/bin/beeline -u jdbc:hive2://localhost:10000\n",
    "  > CREATE TABLE pokes (foo INT, bar STRING);\n",
    "  > LOAD DATA LOCAL INPATH '/opt/hive/examples/files/kv1.txt' OVERWRITE INTO TABLE pokes;\n",
    "```\n",
    "\n",
    "Then query it from PrestoDB. You can get [presto.jar](https://prestosql.io/docs/current/installation/cli.html) from PrestoDB website:\n",
    "```\n",
    "  $ wget https://repo1.maven.org/maven2/io/prestosql/presto-cli/308/presto-cli-308-executable.jar\n",
    "  $ mv presto-cli-308-executable.jar presto.jar\n",
    "  $ chmod +x presto.jar\n",
    "  $ ./presto.jar --server localhost:8080 --catalog hive --schema default\n",
    "  presto> select * from pokes;\n",
    "```\n",
    "\n",
    "If you want to run multiple nodes, you can use the following docker-compose\n",
    "\n",
    "https://github.com/big-data-europe/docker-hadoop/blob/e62d698b37905fddffb9e6fe9a83a32515ff0674/docker-compose-3dn.yml"
   ]
  },
  {
   "cell_type": "markdown",
   "metadata": {},
   "source": [
    "----\n",
    "## Next steps\n",
    "\n",
    "Interactive training made by Docker developers\n",
    "\n",
    "https://training.play-with-docker.com/\n",
    "\n",
    "Kubernetes is a orchestration framework that leverages cloud resources\n",
    "\n",
    "Kubernetes - https://kubernetes.io/docs/home/\n",
    "\n",
    "Dockerhub is an open source docker repository where contributors can upload their Docker images for others to use\n",
    "\n",
    "Dockerhub - https://hub.docker.com/\n",
    "\n",
    "## Some of my favorite docker containers\n",
    "\n",
    "``` \n",
    "# Runs jupyter notebook on localhost:8888 with preinstalled data science libraries\n",
    "docker run -p 8888:8888 jupyter/datascience-notebook\n",
    "```\n",
    "\n",
    "```\n",
    "#GPU Power baby!\n",
    "docker run --gpus all --rm -it -p 8888:8888 -p 8787:8787 -p 8786:8786 rapidsai/rapidsai:cuda10.0-runtime-ubuntu18.04\n",
    "```\n",
    "\n",
    "BERT as service web app to run some bert embedding models. (Do cool Dan stuff)\n",
    "\n",
    "https://github.com/hanxiao/bert-as-service"
   ]
  },
  {
   "cell_type": "code",
   "execution_count": null,
   "metadata": {},
   "outputs": [],
   "source": []
  }
 ],
 "metadata": {
  "kernelspec": {
   "display_name": "Python 3",
   "language": "python",
   "name": "python3"
  },
  "language_info": {
   "codemirror_mode": {
    "name": "ipython",
    "version": 3
   },
   "file_extension": ".py",
   "mimetype": "text/x-python",
   "name": "python",
   "nbconvert_exporter": "python",
   "pygments_lexer": "ipython3",
   "version": "3.7.4"
  }
 },
 "nbformat": 4,
 "nbformat_minor": 4
}
