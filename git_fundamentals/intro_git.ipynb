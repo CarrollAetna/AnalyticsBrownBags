{
 "cells": [
  {
   "cell_type": "markdown",
   "metadata": {},
   "source": [
    "### TL;DR Mini cheatsheet\n",
    "\n",
    "#### Step 1: Setup repo\n",
    "```bash\n",
    "git clone REPO_LINK\n",
    "git checkout -b BRANCH_NAME\n",
    "```\n",
    "\n",
    "#### Step 2: Add and Commit code\n",
    "```bash\n",
    "git add FILE_NAME\n",
    "# Add all untracked files\n",
    "git add .\n",
    "\n",
    "git commit -m \"This is a descriptive commit message\"\n",
    "\n",
    "# Shortcut. DOES NOT WORK FOR NEW FILES. only changes in existing files\n",
    "git commit -am \"This adds all changes and is a descriptive commit message\"\n",
    "```\n",
    "\n",
    "#### Step 3: Merge, Push, Pull\n",
    "```bash\n",
    "# For local branches use merge\n",
    "git checkout master\n",
    "git merge BRANCH_NAME\n",
    "# Or you can use this command for local branches\n",
    "git pull . BRANCH_NAME\n",
    "\n",
    "# For Remote branches use push and pull\n",
    "git push -u origin BRANCH_NAME\n",
    "git pull origin BRANCH_NAME\n",
    "\n",
    "# Pulls all branches and changes from remote repo\n",
    "git pull\n",
    "# Push all branches and changes to existing branches in remote repo\n",
    "git push -u\n",
    "```\n"
   ]
  },
  {
   "cell_type": "markdown",
   "metadata": {},
   "source": [
    "# What is git?\n",
    "\n",
    "Git is a Version Control System (VCS) **software package** that is used to record changes made to files in a specific directory. \n",
    "\n",
    "The benefits of git include\n",
    "\n",
    "- **Distributed** which sets apart git from other VCS such as Subversion. Allows for a central repository that can sync with multiple hosts\n",
    "- **Branching** which allows the compartmentalization of work by features or tiny meaningful chunks\n",
    "- **Merging** which allows for verification and resolution of software conflicts and issues\n",
    "- **Changelog** which allows users to replay and even revert previous changes.\n",
    "- **Free and open source** cause free things are always cool. Also if something is wrong, you can fix it or raise an issue\n",
    "\n",
    "[Link to Git home page and documentation](https://git-scm.com/)\n",
    "\n",
    "GitHub is an **online repository** that allows you to share code with others. There are enterprise versions which essentially means that companies host their own servers (or host private repositories) with GitHub installed and the relevant security measures in place. There is also an open source version managed by the GitHub team that is available for everyone. Think of github as kind of like a dropbox or cloud storage built to display git changes via browser.\n",
    "\n",
    "There are also other online repository options available such as:\n",
    "\n",
    "- Gitlab\n",
    "- Bitbucket\n",
    "- AWS/GoogleCloud/Azure options\n",
    "\n",
    "----\n",
    "# Step 1: Set up your repo\n",
    "\n",
    "In the first step, we will clone a repo that is hosted on GitHub, create a new branch and verify that everything worked correctly.\n",
    "\n",
    "Some standard conventions:\n",
    "\n",
    "- It is suggested that branch names are relevant to the work you are doing\n",
    "- Each branch should be utilized for a specific purpose or feature that is relatively small. In other words, you want to make the number of changes in each branch small in order to avoid potential conflicts."
   ]
  },
  {
   "cell_type": "code",
   "execution_count": null,
   "metadata": {
    "scrolled": true
   },
   "outputs": [],
   "source": [
    "%%bash\n",
    "# Clone a centralized repo from Github (or one of the other ones if applicable)\n",
    "git clone https://github.com/CarrollAetna/AnalyticsBrownBags.git"
   ]
  },
  {
   "cell_type": "code",
   "execution_count": null,
   "metadata": {},
   "outputs": [],
   "source": [
    "%cd AnalyticsBrownBags"
   ]
  },
  {
   "cell_type": "code",
   "execution_count": 157,
   "metadata": {},
   "outputs": [
    {
     "name": "stdout",
     "output_type": "stream",
     "text": [
      "* ekim/git_fundamentals\n",
      "  master\n",
      "  remotes/origin/HEAD -> origin/master\n",
      "  remotes/origin/master\n"
     ]
    },
    {
     "name": "stderr",
     "output_type": "stream",
     "text": [
      "bash: line 2: BRANCH_NAME: command not found\n",
      "error: switch `b' requires a value\n"
     ]
    }
   ],
   "source": [
    "%%bash\n",
    "# Create a new branch\n",
    "BRANCH_NAME=ekim/feature\n",
    "git checkout -b $BRANCH_NAME\n",
    "git branch -a"
   ]
  },
  {
   "cell_type": "code",
   "execution_count": null,
   "metadata": {},
   "outputs": [],
   "source": [
    "%%bash\n",
    "# Status check to ensure everything is still good\n",
    "git status\n",
    "git remote -v"
   ]
  },
  {
   "cell_type": "markdown",
   "metadata": {},
   "source": [
    "# Let's explore the repo a little bit\n",
    "\n",
    "Let's take a look at the changes made and explore how things were done!\n",
    "\n",
    "Each change will have a commit ID, Author, Date, and a comment. The comment is created by the creator of the commit and hopefully they use descriptive language to describe that particular commit"
   ]
  },
  {
   "cell_type": "code",
   "execution_count": null,
   "metadata": {},
   "outputs": [],
   "source": [
    "%%bash\n",
    "git log"
   ]
  },
  {
   "cell_type": "code",
   "execution_count": null,
   "metadata": {},
   "outputs": [],
   "source": [
    "%%bash\n",
    "# Lets check out some changes\n",
    "git show 7fb7de233245c10d556d38d7cc28bf591d420fd1"
   ]
  },
  {
   "cell_type": "markdown",
   "metadata": {},
   "source": [
    "# Step 2: Let's add some stuff and commit!\n",
    "\n",
    "We are going to add some 'code' and commit it to our branch. We will also go through what to do if you make a mistake and some ways to go through that."
   ]
  },
  {
   "cell_type": "code",
   "execution_count": null,
   "metadata": {},
   "outputs": [],
   "source": [
    "%%bash\n",
    "# Lets create a simple text file to commit\n",
    "echo \"This is a tutorial\" >> intro_to_git.txt\n",
    "git status"
   ]
  },
  {
   "cell_type": "markdown",
   "metadata": {},
   "source": [
    "Our file is untracked so we need to add the file before we can commit. Untracked files are files that git ignores. This is the default for any new files created."
   ]
  },
  {
   "cell_type": "code",
   "execution_count": null,
   "metadata": {},
   "outputs": [],
   "source": [
    "%%bash\n",
    "# Add our new text file and ensure that we have the right file to commit\n",
    "git add intro_to_git.txt\n",
    "git status"
   ]
  },
  {
   "cell_type": "code",
   "execution_count": null,
   "metadata": {},
   "outputs": [],
   "source": [
    "%%bash\n",
    "# We will now commit our new file with a descriptive comment using the -m flag\n",
    "git commit -m \"Adding text file that simply states This is a tutorial\"\n"
   ]
  },
  {
   "cell_type": "code",
   "execution_count": 107,
   "metadata": {},
   "outputs": [
    {
     "name": "stdout",
     "output_type": "stream",
     "text": [
      "commit 1fc146afd2eb2b7cea8312bed2cffadb8bdb6ca7\n",
      "Author: eugene.kim <kime3@aetna.com>\n",
      "Date:   Fri Dec 20 00:52:06 2019 -0500\n",
      "\n",
      "    Adding text file that simply states This is a tutorial\n",
      "\n",
      " intro_to_git.txt | 4 ++++\n",
      " 1 file changed, 4 insertions(+)\n"
     ]
    }
   ],
   "source": [
    "%%bash\n",
    "git log --stat -1"
   ]
  },
  {
   "cell_type": "markdown",
   "metadata": {},
   "source": [
    "# Step 2a: Oops I made a mistake\n",
    "\n",
    "Sometimes we commit when we don't mean to or there are a lot of different things happening. Ideally, we want to avoid these situations but everybody has those days. Here's what you can do!"
   ]
  },
  {
   "cell_type": "code",
   "execution_count": 108,
   "metadata": {},
   "outputs": [
    {
     "name": "stdout",
     "output_type": "stream",
     "text": [
      "On branch ekim/feature\n",
      "Untracked files:\n",
      "  (use \"git add <file>...\" to include in what will be committed)\n",
      "\n",
      "\thobbies.txt\n",
      "\tintro.txt\n",
      "\tpassword.txt\n",
      "\n",
      "nothing added to commit but untracked files present (use \"git add\" to track)\n"
     ]
    }
   ],
   "source": [
    "%%bash\n",
    "# Let's add a bunch of files and then one bad file\n",
    "echo \"My name is Monty\" >> intro.txt\n",
    "echo \"I like to hold snakes\" >> hobbies.txt\n",
    "echo \"123456789\" >> password.txt\n",
    "\n",
    "git status"
   ]
  },
  {
   "cell_type": "code",
   "execution_count": 109,
   "metadata": {},
   "outputs": [
    {
     "name": "stdout",
     "output_type": "stream",
     "text": [
      "[ekim/feature bcea30a] adding info about monty\n",
      " 3 files changed, 3 insertions(+)\n",
      " create mode 100644 hobbies.txt\n",
      " create mode 100644 intro.txt\n",
      " create mode 100644 password.txt\n",
      "commit bcea30a20733f389066cb0ebde78985fee5814b8\n",
      "Author: eugene.kim <kime3@aetna.com>\n",
      "Date:   Fri Dec 20 00:57:39 2019 -0500\n",
      "\n",
      "    adding info about monty\n"
     ]
    }
   ],
   "source": [
    "%%bash\n",
    "# Lets use the shortcut to add all untracked files and commit them\n",
    "git add .\n",
    "git commit -m \"adding info about monty\"\n",
    "git log --stat -1"
   ]
  },
  {
   "cell_type": "code",
   "execution_count": 110,
   "metadata": {},
   "outputs": [
    {
     "name": "stdout",
     "output_type": "stream",
     "text": [
      "On branch ekim/feature\n",
      "Untracked files:\n",
      "  (use \"git add <file>...\" to include in what will be committed)\n",
      "\n",
      "\thobbies.txt\n",
      "\tintro.txt\n",
      "\tpassword.txt\n",
      "\n",
      "nothing added to commit but untracked files present (use \"git add\" to track)\n"
     ]
    }
   ],
   "source": [
    "%%bash\n",
    "# Oh no. We added a bad file. We can reset the branch to the previous commit while keeping all the changes untracked\n",
    "git reset HEAD~\n",
    "git status\n",
    "# HEAD~ goes back to the previous commit. You can also use HEAD~n to go back n commits from the last commit"
   ]
  },
  {
   "cell_type": "code",
   "execution_count": 113,
   "metadata": {},
   "outputs": [
    {
     "name": "stdout",
     "output_type": "stream",
     "text": [
      "On branch ekim/feature\n",
      "Changes to be committed:\n",
      "  (use \"git reset HEAD <file>...\" to unstage)\n",
      "\n",
      "\tnew file:   hobbies.txt\n",
      "\tnew file:   intro.txt\n",
      "\n",
      "Changes not staged for commit:\n",
      "  (use \"git add <file>...\" to update what will be committed)\n",
      "  (use \"git checkout -- <file>...\" to discard changes in working directory)\n",
      "\n",
      "\tmodified:   .gitignore\n",
      "\n"
     ]
    }
   ],
   "source": [
    "%%bash\n",
    "# Add the unwanted file to .gitignore to permanently untrack the file\n",
    "echo \"password.txt\" >> .gitignore\n",
    "git add hobbies.txt intro.txt\n",
    "git status"
   ]
  },
  {
   "cell_type": "code",
   "execution_count": 114,
   "metadata": {},
   "outputs": [
    {
     "name": "stdout",
     "output_type": "stream",
     "text": [
      "[ekim/feature bcefba3] adding info about monty\n",
      " 3 files changed, 3 insertions(+)\n",
      " create mode 100644 hobbies.txt\n",
      " create mode 100644 intro.txt\n",
      "commit bcefba37c4466956d8df57997597088f1f51f7f3\n",
      "Author: eugene.kim <kime3@aetna.com>\n",
      "Date:   Fri Dec 20 01:02:44 2019 -0500\n",
      "\n",
      "    adding info about monty\n",
      "\n",
      " .gitignore  | 1 +\n",
      " hobbies.txt | 1 +\n",
      " intro.txt   | 1 +\n",
      " 3 files changed, 3 insertions(+)\n"
     ]
    }
   ],
   "source": [
    "%%bash\n",
    "# Commit everything as you wanted originally. We will use the flags -am to add all changes and include a message\n",
    "git commit -am \"adding info about monty\"\n",
    "git log --stat -1"
   ]
  },
  {
   "cell_type": "markdown",
   "metadata": {},
   "source": [
    "# Step 3: Merge, Push, Pull\n",
    "\n",
    "Once you have made the necessary commits, it is time to merge them into the master branch!\n",
    "\n",
    "On GitHub, you would generally open a pull request, where you submit your code through the UI for an admin to review and verify your branch to pull into master. There are also automated build tools available that do this for you such as CircleCI or Jenkins\n",
    "\n",
    "In this tutorial, we will do it the old school way of merging it into our local master branch.\n",
    "\n",
    "Difference between each command\n",
    "- Git merge attempts to bring two branches together by replaying all changes based on datetime\n",
    "- Git push takes the current branch you are on, merges changes to a remote branch, and commits those changes\n",
    "- Git Pull takes another branch, merges changes into your branch, and commits those changes\n",
    "\n",
    "Git merge can only be done for local branches\n",
    "\n",
    "Git push can only be done for remote branches\n",
    "\n",
    "Git pull can be done on either local or remote, but is typically only used for remote"
   ]
  },
  {
   "cell_type": "code",
   "execution_count": 121,
   "metadata": {},
   "outputs": [
    {
     "name": "stdout",
     "output_type": "stream",
     "text": [
      ".gitignore\n",
      "hobbies.txt\n",
      "intro.txt\n",
      "intro_to_git.txt\n"
     ]
    }
   ],
   "source": [
    "%%bash\n",
    "# Verify all the things you are adding\n",
    "git diff --name-only master ekim/feature"
   ]
  },
  {
   "cell_type": "code",
   "execution_count": 124,
   "metadata": {},
   "outputs": [
    {
     "name": "stdout",
     "output_type": "stream",
     "text": [
      "Your branch is up to date with 'origin/master'.\n",
      "Updating 8190d97..bcefba3\n",
      "Fast-forward\n",
      " .gitignore       | 1 +\n",
      " hobbies.txt      | 1 +\n",
      " intro.txt        | 1 +\n",
      " intro_to_git.txt | 4 ++++\n",
      " 4 files changed, 7 insertions(+)\n",
      " create mode 100644 hobbies.txt\n",
      " create mode 100644 intro.txt\n",
      " create mode 100644 intro_to_git.txt\n",
      "commit bcefba37c4466956d8df57997597088f1f51f7f3\n",
      "Author: eugene.kim <kime3@aetna.com>\n",
      "Date:   Fri Dec 20 01:02:44 2019 -0500\n",
      "\n",
      "    adding info about monty\n",
      "\n",
      " .gitignore  | 1 +\n",
      " hobbies.txt | 1 +\n",
      " intro.txt   | 1 +\n",
      " 3 files changed, 3 insertions(+)\n",
      "\n",
      "commit 1fc146afd2eb2b7cea8312bed2cffadb8bdb6ca7\n",
      "Author: eugene.kim <kime3@aetna.com>\n",
      "Date:   Fri Dec 20 00:52:06 2019 -0500\n",
      "\n",
      "    Adding text file that simply states This is a tutorial\n",
      "\n",
      " intro_to_git.txt | 4 ++++\n",
      " 1 file changed, 4 insertions(+)\n",
      "\n",
      "commit 8190d97667f3649a1f48aa6a57da0f3c2b471a43\n",
      "Author: Dan Carroll <carrolld@aetna.com>\n",
      "Date:   Sun Dec 1 18:43:28 2019 -0700\n",
      "\n",
      "    adding the key to the brown bag\n",
      "\n",
      " ds_and_algos/Key.ipynb | 2229 ++++++++++++++++++++++++++++++++++++++++++++++++\n",
      " 1 file changed, 2229 insertions(+)\n"
     ]
    },
    {
     "name": "stderr",
     "output_type": "stream",
     "text": [
      "Switched to branch 'master'\n"
     ]
    }
   ],
   "source": [
    "%%bash\n",
    "# Checkout master and merge the feature branch\n",
    "git checkout master\n",
    "git merge ekim/feature\n",
    "git log --stat -3"
   ]
  },
  {
   "cell_type": "code",
   "execution_count": 141,
   "metadata": {},
   "outputs": [
    {
     "name": "stdout",
     "output_type": "stream",
     "text": [
      "HEAD is now at 8190d97 adding the key to the brown bag\n",
      "commit 8190d97667f3649a1f48aa6a57da0f3c2b471a43\n",
      "Author: Dan Carroll <carrolld@aetna.com>\n",
      "Date:   Sun Dec 1 18:43:28 2019 -0700\n",
      "\n",
      "    adding the key to the brown bag\n",
      "\n",
      "commit ed5b9fc3a3cd8c38c755b96cc5bf718f18b2cd4b\n",
      "Author: Dan Carroll <carrolld@aetna.com>\n",
      "Date:   Fri Nov 22 09:39:17 2019 -0700\n",
      "\n",
      "    adding requirements file, single req lol\n",
      "\n",
      "commit 61863fb3a25d27f17e7b488cbec5b7887631f1e1\n",
      "Merge: 7fb7de2 58a19e9\n",
      "Author: Dan Carroll <carrolld@aetna.com>\n",
      "Date:   Fri Nov 22 09:34:52 2019 -0700\n",
      "\n",
      "    Merge pull request #1 from ekim-aetna/patch-1\n",
      "    \n",
      "    Adding binder link\n",
      "\n",
      "====\n",
      "Updating 8190d97..bcefba3\n",
      "Fast-forward\n",
      " .gitignore       | 1 +\n",
      " hobbies.txt      | 1 +\n",
      " intro.txt        | 1 +\n",
      " intro_to_git.txt | 4 ++++\n",
      " 4 files changed, 7 insertions(+)\n",
      " create mode 100644 hobbies.txt\n",
      " create mode 100644 intro.txt\n",
      " create mode 100644 intro_to_git.txt\n",
      "commit bcefba37c4466956d8df57997597088f1f51f7f3\n",
      "Author: eugene.kim <kime3@aetna.com>\n",
      "Date:   Fri Dec 20 01:02:44 2019 -0500\n",
      "\n",
      "    adding info about monty\n",
      "\n",
      "commit 1fc146afd2eb2b7cea8312bed2cffadb8bdb6ca7\n",
      "Author: eugene.kim <kime3@aetna.com>\n",
      "Date:   Fri Dec 20 00:52:06 2019 -0500\n",
      "\n",
      "    Adding text file that simply states This is a tutorial\n",
      "\n",
      "commit 8190d97667f3649a1f48aa6a57da0f3c2b471a43\n",
      "Author: Dan Carroll <carrolld@aetna.com>\n",
      "Date:   Sun Dec 1 18:43:28 2019 -0700\n",
      "\n",
      "    adding the key to the brown bag\n"
     ]
    },
    {
     "name": "stderr",
     "output_type": "stream",
     "text": [
      "From .\n",
      " * branch            ekim/feature -> FETCH_HEAD\n"
     ]
    }
   ],
   "source": [
    "%%bash\n",
    "# Rolling back changes to show another method to pull changes\n",
    "git reset --hard 8190d97667f3649a1f48aa6a57da0f3c2b471a43\n",
    "git clean -f -d\n",
    "git log -1\n",
    "\n",
    "printf \"\\n====\\n\\n\"\n",
    "# You can also pull local branches by adding the .\n",
    "git pull . ekim/feature\n",
    "git log -3"
   ]
  },
  {
   "cell_type": "markdown",
   "metadata": {},
   "source": [
    "# Typical workflows\n",
    "\n",
    "A typical git workflow is as follows:\n",
    "\n",
    "1. Create a new feature branch\n",
    "2. Make commits to save your work\n",
    "3. Review changes made compared to master\n",
    "4. Push changes to master\n",
    "5. Repeat as needed\n",
    "\n",
    "In between those steps, you may have to perform the following:\n",
    "\n",
    "1. Pull in new changes made to master (via other people's merges)\n",
    "2. Resolve merge conflicts\n",
    "    - This means a change was committed for a file that you are also changing\n",
    "3. Realize git erased files and start losing your mind\n",
    "    - Don't worry there is usually a way to revert this, so you can always ask me!\n",
    "----\n",
    "\n",
    "You can also have branches of branches which are typically used when the master branch is a stable baseline for the code and a versioning branch is used for updates and changes. Feature branches are then branched off of that. It is rare for branching to go further than this level and highly unadvisable.\n",
    "\n",
    "Forking repositories is also a thing that people may do. Forking creates a clone of a remote git repository and changes are not synced between the forked repository and the main repository unless they are merged. This is usually not performed unless you want to take someone else's code and refactor it significantly.\n",
    "\n",
    "----\n",
    "Some good rules of thumb to follow to avoid merge conflicts and have a good git time\n",
    "\n",
    "- Try to minimize the number of changes in each commit\n",
    "- Try to minimize the number of commits in each branch\n",
    "- Push and pull branches often to avoid merge conflicts\n",
    "- Try to work on one branch at a time.\n",
    "- Commit often"
   ]
  },
  {
   "cell_type": "markdown",
   "metadata": {},
   "source": [
    "# Extra Git Commands that are cool and/or marginally useful\n",
    "\n",
    "Although the commands and workflows listed above should be more than enough on your start with Git, here are a couple more commands that have helped me through the years\n"
   ]
  },
  {
   "cell_type": "code",
   "execution_count": 147,
   "metadata": {},
   "outputs": [
    {
     "name": "stdout",
     "output_type": "stream",
     "text": [
      "* bcefba3 - (36 minutes ago) adding info about monty - eugene.kim (HEAD -> ekim/feature, master)\n",
      "* 1fc146a - (47 minutes ago) Adding text file that simply states This is a tutorial - eugene.kim\n",
      "* 8190d97 - (3 weeks ago) adding the key to the brown bag - Dan Carroll (origin/master, origin/HEAD)\n",
      "* ed5b9fc - (4 weeks ago) adding requirements file, single req lol - Dan Carroll\n",
      "*   61863fb - (4 weeks ago) Merge pull request #1 from ekim-aetna/patch-1 - Dan Carroll\n",
      "|\\  \n",
      "| * 58a19e9 - (4 weeks ago) Adding binder link - Eugene Kim\n",
      "|/  \n",
      "* 7fb7de2 - (4 weeks ago) Update README.md - Dan Carroll\n",
      "* 8cacfb4 - (4 weeks ago) adding git ignore - Dan Carroll\n",
      "* 46a8c73 - (4 weeks ago) adding the initial work related to the Data Structures and Algo talk - Dan Carroll\n",
      "* b8fe521 - (4 weeks ago) setting up git lfs - Dan Carroll\n",
      "* c5cde4d - (4 weeks ago) Initial commit - Dan Carroll"
     ]
    }
   ],
   "source": [
    "%%bash\n",
    "# A git graph that shows a CLI visual representation of your branches. save this in your bash profile\n",
    "alias graph=\"log --graph --abbrev-commit --decorate --format=format:%C(bold blue)%h%C(reset) - %C(bold green)(%ar)%C(reset) %C(white)%s%C(reset) %C(dim white)- %an%C(reset)%C(bold yellow)%d%C(reset)' --all'\"\n",
    "git graph"
   ]
  },
  {
   "cell_type": "code",
   "execution_count": 149,
   "metadata": {},
   "outputs": [
    {
     "name": "stdout",
     "output_type": "stream",
     "text": [
      "bcefba3 HEAD@{0}: checkout: moving from master to ekim/feature\n",
      "bcefba3 HEAD@{1}: pull . ekim/feature: Fast-forward\n",
      "8190d97 HEAD@{2}: reset: moving to 8190d97667f3649a1f48aa6a57da0f3c2b471a43\n",
      "bcefba3 HEAD@{3}: pull . ekim/feature: Fast-forward\n",
      "8190d97 HEAD@{4}: reset: moving to 8190d97667f3649a1f48aa6a57da0f3c2b471a43\n",
      "8190d97 HEAD@{5}: reset: moving to 8190d97667f3649a1f48aa6a57da0f3c2b471a43\n",
      "8190d97 HEAD@{6}: reset: moving to HEAD~\n",
      "1fc146a HEAD@{7}: reset: moving to HEAD~\n",
      "bcefba3 HEAD@{8}: reset: moving to HEAD@{5}\n",
      "8190d97 HEAD@{9}: reset: moving to HEAD@{3}\n",
      "bcefba3 HEAD@{10}: reset: moving to HEAD@{3}\n",
      "61863fb HEAD@{11}: reset: moving to HEAD\n",
      "61863fb HEAD@{12}: reset: moving to HEAD~2\n",
      "8190d97 HEAD@{13}: reset: moving to HEAD~2\n",
      "bcefba3 HEAD@{14}: merge ekim/feature: Fast-forward\n",
      "8190d97 HEAD@{15}: checkout: moving from ekim/feature to master\n",
      "bcefba3 HEAD@{16}: commit: adding info about monty\n",
      "1fc146a HEAD@{17}: reset: moving to HEAD~\n",
      "bcea30a HEAD@{18}: commit: adding info about monty\n",
      "1fc146a HEAD@{19}: commit: Adding text file that simply states This is a tutorial\n",
      "8190d97 HEAD@{20}: checkout: moving from master to ekim/feature\n",
      "8190d97 HEAD@{21}: clone: from https://github.com/CarrollAetna/AnalyticsBrownBags.git\n",
      "On branch ekim/feature\n",
      "nothing to commit, working tree clean\n"
     ]
    }
   ],
   "source": [
    "%%bash\n",
    "# A log of git commands run that affect the commit history. \n",
    "# You can reset back to the state of the repo from that command by referencing HEAD@{N}\n",
    "git reflog"
   ]
  },
  {
   "cell_type": "code",
   "execution_count": 154,
   "metadata": {},
   "outputs": [
    {
     "name": "stdout",
     "output_type": "stream",
     "text": [
      "Saved working directory and index state WIP on master: bcefba3 adding info about monty\n",
      "Your branch is ahead of 'origin/master' by 2 commits.\n",
      "  (use \"git push\" to publish your local commits)\n",
      "On branch master\n",
      "Your branch is ahead of 'origin/master' by 2 commits.\n",
      "  (use \"git push\" to publish your local commits)\n",
      "\n",
      "Changes to be committed:\n",
      "  (use \"git reset HEAD <file>...\" to unstage)\n",
      "\n",
      "\tnew file:   stash.txt\n",
      "\n",
      "Dropped refs/stash@{0} (6f0c829572fa2068de730fd3724ec3080f97a60d)\n"
     ]
    },
    {
     "name": "stderr",
     "output_type": "stream",
     "text": [
      "Already on 'master'\n"
     ]
    }
   ],
   "source": [
    "%%bash\n",
    "# Git stash is a command that saves your changes to a temporary cache to enable you to switch branches.\n",
    "# This command is useful when you want to keep changes but need to switch branches\n",
    "\n",
    "git checkout $BRANCH_NAME\n",
    "echo \"stash test\" >> stash.txt\n",
    "git add stash.txt\n",
    "git stash\n",
    "git checkout master\n",
    "git stash pop\n",
    "git status"
   ]
  },
  {
   "cell_type": "code",
   "execution_count": null,
   "metadata": {},
   "outputs": [],
   "source": [
    "%%bash\n",
    "# Git rebase recommits all your changes in front of all other changes.\n",
    "# It has an interactive feature that allows you to edit commits\n",
    "# This is useful for when you don't feel like committing often and just do everything in one gigantic commit.\n",
    "# This way you are still able to edit each change to their own message\n",
    "git rebase -i master\n",
    "\n",
    "# ADVANCED USERS ONLY\n",
    "# This can potentially make unintended changes to your repo if you aren't sure what you're affecting.\n"
   ]
  },
  {
   "cell_type": "code",
   "execution_count": null,
   "metadata": {},
   "outputs": [],
   "source": [
    "%%bash\n",
    "# git remote has some config stuff that is useful on occasion\n",
    "\n",
    "# set-url is useful when you need to switch the repo link (HTTPS to SSH for example)\n",
    "git remote set-url origin NEW_REPO_LINK\n",
    "\n",
    "# prune removes all references to remote branches that are deleted\n",
    "git remote prune\n",
    "\n",
    "# rename changes the default origin into whatever you like\n",
    "git remote rename origin batcave\n",
    "git push batcave BRANCH_NAME\n",
    "git pull batcave master"
   ]
  },
  {
   "cell_type": "code",
   "execution_count": 155,
   "metadata": {},
   "outputs": [
    {
     "name": "stdout",
     "output_type": "stream",
     "text": [
      "/Users/eugene.kim/sandbox/AnalyticsBrownBags/git_fundamentals\n"
     ]
    }
   ],
   "source": [
    "# Clean up Directories\n",
    "%cd ..\n",
    "%rm -rf AnalyticsBrownBags"
   ]
  }
 ],
 "metadata": {
  "kernelspec": {
   "display_name": "Python 3",
   "language": "python",
   "name": "python3"
  },
  "language_info": {
   "codemirror_mode": {
    "name": "ipython",
    "version": 3
   },
   "file_extension": ".py",
   "mimetype": "text/x-python",
   "name": "python",
   "nbconvert_exporter": "python",
   "pygments_lexer": "ipython3",
   "version": "3.7.4"
  }
 },
 "nbformat": 4,
 "nbformat_minor": 2
}
