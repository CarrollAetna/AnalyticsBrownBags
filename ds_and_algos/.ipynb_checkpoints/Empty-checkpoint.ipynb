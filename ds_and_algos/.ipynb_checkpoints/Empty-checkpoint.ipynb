{
 "cells": [
  {
   "cell_type": "markdown",
   "metadata": {},
   "source": [
    "# Data Structures and Algorithms with Python"
   ]
  },
  {
   "cell_type": "markdown",
   "metadata": {},
   "source": [
    "![alt text](http://www.programmerfish.com/wp-content/uploads/2011/03/image6.png)"
   ]
  },
  {
   "cell_type": "markdown",
   "metadata": {
    "deletable": true,
    "editable": true
   },
   "source": [
    "## Goals\n",
    "\n",
    "- Have fun\n",
    "- Write some python\n",
    "- Solve a cool problem together\n",
    "- Learn some foundational computer science\n",
    "\n",
    "## Useful Background\n",
    "\n",
    "- None, talk is meant to be entry level"
   ]
  },
  {
   "cell_type": "markdown",
   "metadata": {
    "collapsed": true,
    "deletable": true,
    "editable": true
   },
   "source": [
    "## Load up some data\n",
    "\n",
    "Let's begin by loading up some data, there is a directory called the-movies-dataset, which as it's name implies contains a cool dataset. Take a moment to load up the dataset in whatever analysis tool you like, and explore \n",
    "\n",
    "maybe even python *hint hint"
   ]
  },
  {
   "cell_type": "code",
   "execution_count": null,
   "metadata": {
    "collapsed": true
   },
   "outputs": [],
   "source": []
  },
  {
   "cell_type": "markdown",
   "metadata": {},
   "source": [
    "## Let's build a Search Engine!\n",
    "\n",
    "Google is famous for their  hard data structures and algo interviews, Google is also famous for their Search Engine, probably just a coincidence right?\n",
    "\n",
    "\n",
    "![alt text](https://i.imgur.com/C55FUko.jpg)\n"
   ]
  },
  {
   "cell_type": "markdown",
   "metadata": {},
   "source": [
    "The answer is no! It turns out that if you want to tackle a hard problem whether it's in data science, machine learning, software engineering or something like search which requires all of the above you really need to know your data structures.\n",
    "\n",
    "## Starter Problem\n",
    "\n",
    "Given our dataset of movie titles how could I determine if a movie that I've seen is in the list? Let's assume to begin with that my spelling is perfect and I would never misremember the title of a film."
   ]
  },
  {
   "cell_type": "markdown",
   "metadata": {},
   "source": []
  },
  {
   "cell_type": "markdown",
   "metadata": {},
   "source": [
    "## How did we do? How can we qualify/quanitfy the performance of the solution?\n",
    "\n"
   ]
  },
  {
   "cell_type": "code",
   "execution_count": null,
   "metadata": {
    "collapsed": true
   },
   "outputs": [],
   "source": []
  },
  {
   "cell_type": "markdown",
   "metadata": {},
   "source": [
    "![alt text](https://lankydan.dev/static/e400c3e7ffa7767eda4f91a01fbc568b/a32c3/complexity-graph.png)"
   ]
  },
  {
   "cell_type": "code",
   "execution_count": null,
   "metadata": {
    "collapsed": true
   },
   "outputs": [],
   "source": []
  },
  {
   "cell_type": "markdown",
   "metadata": {},
   "source": [
    "## A Faster Method\n",
    "\n",
    "How could we improve the performance of our previous solution? What is it about the data structure that we chose that made it less than ideal for the task? "
   ]
  },
  {
   "cell_type": "code",
   "execution_count": null,
   "metadata": {
    "collapsed": true
   },
   "outputs": [],
   "source": []
  },
  {
   "cell_type": "markdown",
   "metadata": {},
   "source": [
    "## A Harder Problem\n",
    "\n",
    "What if I wanted to find movies I had seen before but I wasn't confident in my spelling? What kind of approach could I consider that would allow me to solve that problem?\n"
   ]
  },
  {
   "cell_type": "code",
   "execution_count": null,
   "metadata": {
    "collapsed": true
   },
   "outputs": [],
   "source": []
  }
 ],
 "metadata": {
  "kernelspec": {
   "display_name": "Python 3",
   "language": "python",
   "name": "python3"
  },
  "language_info": {
   "codemirror_mode": {
    "name": "ipython",
    "version": 3
   },
   "file_extension": ".py",
   "mimetype": "text/x-python",
   "name": "python",
   "nbconvert_exporter": "python",
   "pygments_lexer": "ipython3",
   "version": "3.6.1"
  }
 },
 "nbformat": 4,
 "nbformat_minor": 2
}
