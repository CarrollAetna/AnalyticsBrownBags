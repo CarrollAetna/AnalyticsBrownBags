{
 "cells": [
  {
   "cell_type": "markdown",
   "metadata": {
    "deletable": true,
    "editable": true
   },
   "source": [
    "# Data Structures and Algorithms with Python"
   ]
  },
  {
   "cell_type": "markdown",
   "metadata": {
    "deletable": true,
    "editable": true
   },
   "source": [
    "![alt text](http://www.programmerfish.com/wp-content/uploads/2011/03/image6.png)"
   ]
  },
  {
   "cell_type": "markdown",
   "metadata": {
    "deletable": true,
    "editable": true
   },
   "source": [
    "## Goals\n",
    "\n",
    "- Have fun\n",
    "- Write some python\n",
    "- Solve a cool problem together\n",
    "- Learn some foundational computer science\n",
    "\n",
    "## Useful Background\n",
    "\n",
    "- None, talk is meant to be entry level"
   ]
  },
  {
   "cell_type": "markdown",
   "metadata": {
    "collapsed": true,
    "deletable": true,
    "editable": true
   },
   "source": [
    "## Load up some data\n",
    "\n",
    "Let's begin by loading up some data, there is a directory called the-movies-dataset, which as it's name implies contains a cool dataset. Take a moment to load up the dataset in whatever analysis tool you like, and explore \n",
    "\n",
    "maybe even python *hint hint"
   ]
  },
  {
   "cell_type": "code",
   "execution_count": 1,
   "metadata": {
    "collapsed": false,
    "deletable": true,
    "editable": true
   },
   "outputs": [
    {
     "name": "stderr",
     "output_type": "stream",
     "text": [
      "/anaconda/lib/python3.6/site-packages/IPython/core/interactiveshell.py:2717: DtypeWarning: Columns (10) have mixed types. Specify dtype option on import or set low_memory=False.\n",
      "  interactivity=interactivity, compiler=compiler, result=result)\n"
     ]
    },
    {
     "data": {
      "text/html": [
       "<div>\n",
       "<style scoped>\n",
       "    .dataframe tbody tr th:only-of-type {\n",
       "        vertical-align: middle;\n",
       "    }\n",
       "\n",
       "    .dataframe tbody tr th {\n",
       "        vertical-align: top;\n",
       "    }\n",
       "\n",
       "    .dataframe thead th {\n",
       "        text-align: right;\n",
       "    }\n",
       "</style>\n",
       "<table border=\"1\" class=\"dataframe\">\n",
       "  <thead>\n",
       "    <tr style=\"text-align: right;\">\n",
       "      <th></th>\n",
       "      <th>adult</th>\n",
       "      <th>belongs_to_collection</th>\n",
       "      <th>budget</th>\n",
       "      <th>genres</th>\n",
       "      <th>homepage</th>\n",
       "      <th>id</th>\n",
       "      <th>imdb_id</th>\n",
       "      <th>original_language</th>\n",
       "      <th>original_title</th>\n",
       "      <th>overview</th>\n",
       "      <th>...</th>\n",
       "      <th>release_date</th>\n",
       "      <th>revenue</th>\n",
       "      <th>runtime</th>\n",
       "      <th>spoken_languages</th>\n",
       "      <th>status</th>\n",
       "      <th>tagline</th>\n",
       "      <th>title</th>\n",
       "      <th>video</th>\n",
       "      <th>vote_average</th>\n",
       "      <th>vote_count</th>\n",
       "    </tr>\n",
       "  </thead>\n",
       "  <tbody>\n",
       "    <tr>\n",
       "      <td>0</td>\n",
       "      <td>False</td>\n",
       "      <td>{'id': 10194, 'name': 'Toy Story Collection', ...</td>\n",
       "      <td>30000000</td>\n",
       "      <td>[{'id': 16, 'name': 'Animation'}, {'id': 35, '...</td>\n",
       "      <td>http://toystory.disney.com/toy-story</td>\n",
       "      <td>862</td>\n",
       "      <td>tt0114709</td>\n",
       "      <td>en</td>\n",
       "      <td>Toy Story</td>\n",
       "      <td>Led by Woody, Andy's toys live happily in his ...</td>\n",
       "      <td>...</td>\n",
       "      <td>1995-10-30</td>\n",
       "      <td>373554033.0</td>\n",
       "      <td>81.0</td>\n",
       "      <td>[{'iso_639_1': 'en', 'name': 'English'}]</td>\n",
       "      <td>Released</td>\n",
       "      <td>NaN</td>\n",
       "      <td>Toy Story</td>\n",
       "      <td>False</td>\n",
       "      <td>7.7</td>\n",
       "      <td>5415.0</td>\n",
       "    </tr>\n",
       "    <tr>\n",
       "      <td>1</td>\n",
       "      <td>False</td>\n",
       "      <td>NaN</td>\n",
       "      <td>65000000</td>\n",
       "      <td>[{'id': 12, 'name': 'Adventure'}, {'id': 14, '...</td>\n",
       "      <td>NaN</td>\n",
       "      <td>8844</td>\n",
       "      <td>tt0113497</td>\n",
       "      <td>en</td>\n",
       "      <td>Jumanji</td>\n",
       "      <td>When siblings Judy and Peter discover an encha...</td>\n",
       "      <td>...</td>\n",
       "      <td>1995-12-15</td>\n",
       "      <td>262797249.0</td>\n",
       "      <td>104.0</td>\n",
       "      <td>[{'iso_639_1': 'en', 'name': 'English'}, {'iso...</td>\n",
       "      <td>Released</td>\n",
       "      <td>Roll the dice and unleash the excitement!</td>\n",
       "      <td>Jumanji</td>\n",
       "      <td>False</td>\n",
       "      <td>6.9</td>\n",
       "      <td>2413.0</td>\n",
       "    </tr>\n",
       "    <tr>\n",
       "      <td>2</td>\n",
       "      <td>False</td>\n",
       "      <td>{'id': 119050, 'name': 'Grumpy Old Men Collect...</td>\n",
       "      <td>0</td>\n",
       "      <td>[{'id': 10749, 'name': 'Romance'}, {'id': 35, ...</td>\n",
       "      <td>NaN</td>\n",
       "      <td>15602</td>\n",
       "      <td>tt0113228</td>\n",
       "      <td>en</td>\n",
       "      <td>Grumpier Old Men</td>\n",
       "      <td>A family wedding reignites the ancient feud be...</td>\n",
       "      <td>...</td>\n",
       "      <td>1995-12-22</td>\n",
       "      <td>0.0</td>\n",
       "      <td>101.0</td>\n",
       "      <td>[{'iso_639_1': 'en', 'name': 'English'}]</td>\n",
       "      <td>Released</td>\n",
       "      <td>Still Yelling. Still Fighting. Still Ready for...</td>\n",
       "      <td>Grumpier Old Men</td>\n",
       "      <td>False</td>\n",
       "      <td>6.5</td>\n",
       "      <td>92.0</td>\n",
       "    </tr>\n",
       "    <tr>\n",
       "      <td>3</td>\n",
       "      <td>False</td>\n",
       "      <td>NaN</td>\n",
       "      <td>16000000</td>\n",
       "      <td>[{'id': 35, 'name': 'Comedy'}, {'id': 18, 'nam...</td>\n",
       "      <td>NaN</td>\n",
       "      <td>31357</td>\n",
       "      <td>tt0114885</td>\n",
       "      <td>en</td>\n",
       "      <td>Waiting to Exhale</td>\n",
       "      <td>Cheated on, mistreated and stepped on, the wom...</td>\n",
       "      <td>...</td>\n",
       "      <td>1995-12-22</td>\n",
       "      <td>81452156.0</td>\n",
       "      <td>127.0</td>\n",
       "      <td>[{'iso_639_1': 'en', 'name': 'English'}]</td>\n",
       "      <td>Released</td>\n",
       "      <td>Friends are the people who let you be yourself...</td>\n",
       "      <td>Waiting to Exhale</td>\n",
       "      <td>False</td>\n",
       "      <td>6.1</td>\n",
       "      <td>34.0</td>\n",
       "    </tr>\n",
       "    <tr>\n",
       "      <td>4</td>\n",
       "      <td>False</td>\n",
       "      <td>{'id': 96871, 'name': 'Father of the Bride Col...</td>\n",
       "      <td>0</td>\n",
       "      <td>[{'id': 35, 'name': 'Comedy'}]</td>\n",
       "      <td>NaN</td>\n",
       "      <td>11862</td>\n",
       "      <td>tt0113041</td>\n",
       "      <td>en</td>\n",
       "      <td>Father of the Bride Part II</td>\n",
       "      <td>Just when George Banks has recovered from his ...</td>\n",
       "      <td>...</td>\n",
       "      <td>1995-02-10</td>\n",
       "      <td>76578911.0</td>\n",
       "      <td>106.0</td>\n",
       "      <td>[{'iso_639_1': 'en', 'name': 'English'}]</td>\n",
       "      <td>Released</td>\n",
       "      <td>Just When His World Is Back To Normal... He's ...</td>\n",
       "      <td>Father of the Bride Part II</td>\n",
       "      <td>False</td>\n",
       "      <td>5.7</td>\n",
       "      <td>173.0</td>\n",
       "    </tr>\n",
       "  </tbody>\n",
       "</table>\n",
       "<p>5 rows × 24 columns</p>\n",
       "</div>"
      ],
      "text/plain": [
       "   adult                              belongs_to_collection    budget  \\\n",
       "0  False  {'id': 10194, 'name': 'Toy Story Collection', ...  30000000   \n",
       "1  False                                                NaN  65000000   \n",
       "2  False  {'id': 119050, 'name': 'Grumpy Old Men Collect...         0   \n",
       "3  False                                                NaN  16000000   \n",
       "4  False  {'id': 96871, 'name': 'Father of the Bride Col...         0   \n",
       "\n",
       "                                              genres  \\\n",
       "0  [{'id': 16, 'name': 'Animation'}, {'id': 35, '...   \n",
       "1  [{'id': 12, 'name': 'Adventure'}, {'id': 14, '...   \n",
       "2  [{'id': 10749, 'name': 'Romance'}, {'id': 35, ...   \n",
       "3  [{'id': 35, 'name': 'Comedy'}, {'id': 18, 'nam...   \n",
       "4                     [{'id': 35, 'name': 'Comedy'}]   \n",
       "\n",
       "                               homepage     id    imdb_id original_language  \\\n",
       "0  http://toystory.disney.com/toy-story    862  tt0114709                en   \n",
       "1                                   NaN   8844  tt0113497                en   \n",
       "2                                   NaN  15602  tt0113228                en   \n",
       "3                                   NaN  31357  tt0114885                en   \n",
       "4                                   NaN  11862  tt0113041                en   \n",
       "\n",
       "                original_title  \\\n",
       "0                    Toy Story   \n",
       "1                      Jumanji   \n",
       "2             Grumpier Old Men   \n",
       "3            Waiting to Exhale   \n",
       "4  Father of the Bride Part II   \n",
       "\n",
       "                                            overview  ... release_date  \\\n",
       "0  Led by Woody, Andy's toys live happily in his ...  ...   1995-10-30   \n",
       "1  When siblings Judy and Peter discover an encha...  ...   1995-12-15   \n",
       "2  A family wedding reignites the ancient feud be...  ...   1995-12-22   \n",
       "3  Cheated on, mistreated and stepped on, the wom...  ...   1995-12-22   \n",
       "4  Just when George Banks has recovered from his ...  ...   1995-02-10   \n",
       "\n",
       "       revenue runtime                                   spoken_languages  \\\n",
       "0  373554033.0    81.0           [{'iso_639_1': 'en', 'name': 'English'}]   \n",
       "1  262797249.0   104.0  [{'iso_639_1': 'en', 'name': 'English'}, {'iso...   \n",
       "2          0.0   101.0           [{'iso_639_1': 'en', 'name': 'English'}]   \n",
       "3   81452156.0   127.0           [{'iso_639_1': 'en', 'name': 'English'}]   \n",
       "4   76578911.0   106.0           [{'iso_639_1': 'en', 'name': 'English'}]   \n",
       "\n",
       "     status                                            tagline  \\\n",
       "0  Released                                                NaN   \n",
       "1  Released          Roll the dice and unleash the excitement!   \n",
       "2  Released  Still Yelling. Still Fighting. Still Ready for...   \n",
       "3  Released  Friends are the people who let you be yourself...   \n",
       "4  Released  Just When His World Is Back To Normal... He's ...   \n",
       "\n",
       "                         title  video vote_average vote_count  \n",
       "0                    Toy Story  False          7.7     5415.0  \n",
       "1                      Jumanji  False          6.9     2413.0  \n",
       "2             Grumpier Old Men  False          6.5       92.0  \n",
       "3            Waiting to Exhale  False          6.1       34.0  \n",
       "4  Father of the Bride Part II  False          5.7      173.0  \n",
       "\n",
       "[5 rows x 24 columns]"
      ]
     },
     "execution_count": 1,
     "metadata": {},
     "output_type": "execute_result"
    }
   ],
   "source": [
    "import pandas as pd\n",
    "df = pd.read_csv('the-movies-dataset/movies_metadata.csv')\n",
    "df.head()"
   ]
  },
  {
   "cell_type": "code",
   "execution_count": 2,
   "metadata": {
    "collapsed": false,
    "deletable": true,
    "editable": true
   },
   "outputs": [
    {
     "data": {
      "text/html": [
       "<div>\n",
       "<style scoped>\n",
       "    .dataframe tbody tr th:only-of-type {\n",
       "        vertical-align: middle;\n",
       "    }\n",
       "\n",
       "    .dataframe tbody tr th {\n",
       "        vertical-align: top;\n",
       "    }\n",
       "\n",
       "    .dataframe thead th {\n",
       "        text-align: right;\n",
       "    }\n",
       "</style>\n",
       "<table border=\"1\" class=\"dataframe\">\n",
       "  <thead>\n",
       "    <tr style=\"text-align: right;\">\n",
       "      <th></th>\n",
       "      <th>revenue</th>\n",
       "      <th>runtime</th>\n",
       "      <th>vote_average</th>\n",
       "      <th>vote_count</th>\n",
       "    </tr>\n",
       "  </thead>\n",
       "  <tbody>\n",
       "    <tr>\n",
       "      <td>count</td>\n",
       "      <td>4.546000e+04</td>\n",
       "      <td>45203.000000</td>\n",
       "      <td>45460.000000</td>\n",
       "      <td>45460.000000</td>\n",
       "    </tr>\n",
       "    <tr>\n",
       "      <td>mean</td>\n",
       "      <td>1.120935e+07</td>\n",
       "      <td>94.128199</td>\n",
       "      <td>5.618207</td>\n",
       "      <td>109.897338</td>\n",
       "    </tr>\n",
       "    <tr>\n",
       "      <td>std</td>\n",
       "      <td>6.433225e+07</td>\n",
       "      <td>38.407810</td>\n",
       "      <td>1.924216</td>\n",
       "      <td>491.310374</td>\n",
       "    </tr>\n",
       "    <tr>\n",
       "      <td>min</td>\n",
       "      <td>0.000000e+00</td>\n",
       "      <td>0.000000</td>\n",
       "      <td>0.000000</td>\n",
       "      <td>0.000000</td>\n",
       "    </tr>\n",
       "    <tr>\n",
       "      <td>25%</td>\n",
       "      <td>0.000000e+00</td>\n",
       "      <td>85.000000</td>\n",
       "      <td>5.000000</td>\n",
       "      <td>3.000000</td>\n",
       "    </tr>\n",
       "    <tr>\n",
       "      <td>50%</td>\n",
       "      <td>0.000000e+00</td>\n",
       "      <td>95.000000</td>\n",
       "      <td>6.000000</td>\n",
       "      <td>10.000000</td>\n",
       "    </tr>\n",
       "    <tr>\n",
       "      <td>75%</td>\n",
       "      <td>0.000000e+00</td>\n",
       "      <td>107.000000</td>\n",
       "      <td>6.800000</td>\n",
       "      <td>34.000000</td>\n",
       "    </tr>\n",
       "    <tr>\n",
       "      <td>max</td>\n",
       "      <td>2.787965e+09</td>\n",
       "      <td>1256.000000</td>\n",
       "      <td>10.000000</td>\n",
       "      <td>14075.000000</td>\n",
       "    </tr>\n",
       "  </tbody>\n",
       "</table>\n",
       "</div>"
      ],
      "text/plain": [
       "            revenue       runtime  vote_average    vote_count\n",
       "count  4.546000e+04  45203.000000  45460.000000  45460.000000\n",
       "mean   1.120935e+07     94.128199      5.618207    109.897338\n",
       "std    6.433225e+07     38.407810      1.924216    491.310374\n",
       "min    0.000000e+00      0.000000      0.000000      0.000000\n",
       "25%    0.000000e+00     85.000000      5.000000      3.000000\n",
       "50%    0.000000e+00     95.000000      6.000000     10.000000\n",
       "75%    0.000000e+00    107.000000      6.800000     34.000000\n",
       "max    2.787965e+09   1256.000000     10.000000  14075.000000"
      ]
     },
     "execution_count": 2,
     "metadata": {},
     "output_type": "execute_result"
    }
   ],
   "source": [
    "df.describe()"
   ]
  },
  {
   "cell_type": "code",
   "execution_count": 3,
   "metadata": {
    "collapsed": false,
    "deletable": true,
    "editable": true
   },
   "outputs": [],
   "source": [
    "titles = list(df.original_title)"
   ]
  },
  {
   "cell_type": "code",
   "execution_count": 4,
   "metadata": {
    "collapsed": false,
    "deletable": true,
    "editable": true
   },
   "outputs": [
    {
     "data": {
      "text/plain": [
       "45466"
      ]
     },
     "execution_count": 4,
     "metadata": {},
     "output_type": "execute_result"
    }
   ],
   "source": [
    "len(titles)"
   ]
  },
  {
   "cell_type": "code",
   "execution_count": 5,
   "metadata": {
    "collapsed": false,
    "deletable": true,
    "editable": true
   },
   "outputs": [
    {
     "data": {
      "text/plain": [
       "['Toy Story',\n",
       " 'Jumanji',\n",
       " 'Grumpier Old Men',\n",
       " 'Waiting to Exhale',\n",
       " 'Father of the Bride Part II',\n",
       " 'Heat',\n",
       " 'Sabrina',\n",
       " 'Tom and Huck',\n",
       " 'Sudden Death',\n",
       " 'GoldenEye',\n",
       " 'The American President',\n",
       " 'Dracula: Dead and Loving It',\n",
       " 'Balto',\n",
       " 'Nixon',\n",
       " 'Cutthroat Island',\n",
       " 'Casino',\n",
       " 'Sense and Sensibility',\n",
       " 'Four Rooms',\n",
       " 'Ace Ventura: When Nature Calls',\n",
       " 'Money Train',\n",
       " 'Get Shorty',\n",
       " 'Copycat',\n",
       " 'Assassins',\n",
       " 'Powder',\n",
       " 'Leaving Las Vegas',\n",
       " 'Othello',\n",
       " 'Now and Then',\n",
       " 'Persuasion',\n",
       " 'La Cité des Enfants Perdus',\n",
       " '摇啊摇，摇到外婆桥',\n",
       " 'Dangerous Minds',\n",
       " 'Twelve Monkeys',\n",
       " 'Guillaumet, les ailes du courage',\n",
       " 'Babe',\n",
       " 'Carrington',\n",
       " 'Dead Man Walking',\n",
       " 'Across the Sea of Time',\n",
       " 'It Takes Two',\n",
       " 'Clueless',\n",
       " 'Cry, the Beloved Country',\n",
       " 'Richard III',\n",
       " 'Dead Presidents',\n",
       " 'Restoration',\n",
       " 'Mortal Kombat',\n",
       " 'To Die For',\n",
       " 'How To Make An American Quilt',\n",
       " 'Se7en',\n",
       " 'Pocahontas',\n",
       " 'When Night Is Falling',\n",
       " 'The Usual Suspects',\n",
       " 'Guardian Angel',\n",
       " 'Mighty Aphrodite',\n",
       " 'Lamerica',\n",
       " 'The Big Green',\n",
       " 'Georgia',\n",
       " 'Kids of the Round Table',\n",
       " 'Home for the Holidays',\n",
       " 'Il postino',\n",
       " 'Le confessionnal',\n",
       " 'The Indian in the Cupboard',\n",
       " 'Eye for an Eye',\n",
       " \"Mr. Holland's Opus\",\n",
       " \"Don't Be a Menace to South Central While Drinking Your Juice in the Hood\",\n",
       " 'Two If by Sea',\n",
       " 'Bio-Dome',\n",
       " 'Lawnmower Man 2: Beyond Cyberspace',\n",
       " 'Two Bits',\n",
       " 'Gazon maudit',\n",
       " 'Friday',\n",
       " 'From Dusk Till Dawn',\n",
       " 'Fair Game',\n",
       " 'Kicking and Screaming',\n",
       " 'Les misérables',\n",
       " 'Bed of Roses',\n",
       " 'Big Bully',\n",
       " 'Screamers',\n",
       " 'Nico Icon',\n",
       " 'The Crossing Guard',\n",
       " 'The Juror',\n",
       " 'بادکنک سفید',\n",
       " \"Things to Do in Denver When You're Dead\",\n",
       " 'Antonia',\n",
       " 'Once Upon a Time... When We Were Colored',\n",
       " 'Last Summer in the Hamptons',\n",
       " 'Angels and Insects',\n",
       " 'White Squall',\n",
       " 'Dunston Checks In',\n",
       " 'Black Sheep',\n",
       " 'Nick of Time',\n",
       " 'The Journey of August King',\n",
       " 'Mary Reilly',\n",
       " 'Vampire in Brooklyn',\n",
       " 'Beautiful Girls',\n",
       " 'Broken Arrow',\n",
       " \"A Midwinter's Tale\",\n",
       " 'La Haine',\n",
       " 'Shopping',\n",
       " 'Heidi Fleiss: Hollywood Madam',\n",
       " 'City Hall',\n",
       " 'Bottle Rocket',\n",
       " 'Mr. Wrong',\n",
       " 'Unforgettable',\n",
       " 'Happy Gilmore',\n",
       " 'The Bridges of Madison County',\n",
       " 'Keiner liebt mich',\n",
       " 'Muppet Treasure Island',\n",
       " 'Catwalk',\n",
       " 'Headless Body in Topless Bar',\n",
       " 'Braveheart',\n",
       " 'Taxi Driver',\n",
       " '紅番區',\n",
       " 'Before and After',\n",
       " \"Margaret's Museum\",\n",
       " 'Le Bonheur est dans le pré',\n",
       " 'Anne Frank Remembered',\n",
       " \"The Young Poisoner's Handbook\",\n",
       " 'If Lucy Fell',\n",
       " 'Steal Big Steal Little',\n",
       " 'Race the Sun',\n",
       " 'The Boys of St. Vincent',\n",
       " 'Boomerang',\n",
       " '重慶森林',\n",
       " \"L'uomo delle stelle\",\n",
       " 'Flirting with Disaster',\n",
       " 'The NeverEnding Story III',\n",
       " 'صمت القصور',\n",
       " \"Jupiter's Wife\",\n",
       " 'Pie in the Sky',\n",
       " 'Angela',\n",
       " 'Frankie Starlight',\n",
       " 'Jade',\n",
       " 'Nueba Yol',\n",
       " 'Sonic Outlaws',\n",
       " 'Down Periscope',\n",
       " 'From the Journals of Jean Seberg',\n",
       " 'Man of the Year',\n",
       " 'The Neon Bible',\n",
       " 'Target',\n",
       " 'Up Close & Personal',\n",
       " 'The Birdcage',\n",
       " 'Gospa',\n",
       " 'The Brothers McMullen',\n",
       " 'Bad Boys',\n",
       " 'The Amazing Panda Adventure',\n",
       " 'The Basketball Diaries',\n",
       " 'An Awfully Big Adventure',\n",
       " 'Amateur',\n",
       " 'Apollo 13',\n",
       " 'Rob Roy',\n",
       " 'The Addiction',\n",
       " 'Batman Forever',\n",
       " 'Belle de jour',\n",
       " 'Beyond Rangoon',\n",
       " 'Blue in the Face',\n",
       " 'Canadian Bacon',\n",
       " 'Casper',\n",
       " 'Clockers',\n",
       " 'Congo',\n",
       " 'Crimson Tide',\n",
       " 'Crumb',\n",
       " 'Desperado',\n",
       " 'Devil in a Blue Dress',\n",
       " 'Die Hard: With a Vengeance',\n",
       " 'The Doom Generation',\n",
       " 'Feast of July',\n",
       " 'First Knight',\n",
       " 'Free Willy 2 - The Adventure Home',\n",
       " 'Hackers',\n",
       " 'Jeffrey',\n",
       " 'Johnny Mnemonic',\n",
       " 'Judge Dredd',\n",
       " 'Jury Duty',\n",
       " 'Kids',\n",
       " 'Living in Oblivion',\n",
       " 'Lord of Illusions',\n",
       " 'Love & Human Remains',\n",
       " 'Mad Love',\n",
       " 'Mallrats',\n",
       " 'Mighty Morphin Power Rangers: The Movie',\n",
       " 'Moonlight and Valentino',\n",
       " 'Mute Witness',\n",
       " 'Nadja',\n",
       " 'The Net',\n",
       " 'Nine Months',\n",
       " 'Party Girl',\n",
       " 'The Prophecy',\n",
       " 'Reckless',\n",
       " 'Safe',\n",
       " 'The Scarlet Letter',\n",
       " 'The Show',\n",
       " 'Showgirls',\n",
       " 'Smoke',\n",
       " 'Something to Talk About',\n",
       " 'Species',\n",
       " 'The Stars Fell on Henrietta',\n",
       " 'Strange Days',\n",
       " 'Les parapluies de Cherbourg',\n",
       " 'The Tie That Binds',\n",
       " 'Three Wishes',\n",
       " 'Total Eclipse',\n",
       " 'To Wong Foo, Thanks for Everything! Julie Newmar',\n",
       " 'Under Siege 2: Dark Territory',\n",
       " 'Unstrung Heroes',\n",
       " 'Unzipped',\n",
       " 'A Walk in the Clouds',\n",
       " 'Waterworld',\n",
       " \"White Man's Burden\",\n",
       " 'Wild Bill',\n",
       " 'The Browning Version',\n",
       " 'Bushwhacked',\n",
       " 'Утомлённые солнцем',\n",
       " 'Before the Rain',\n",
       " 'Before Sunrise',\n",
       " 'Billy Madison',\n",
       " 'The Babysitter',\n",
       " 'Boys on the Side',\n",
       " 'The Cure',\n",
       " 'Castle Freak',\n",
       " 'Circle of Friends',\n",
       " 'Clerks',\n",
       " 'Don Juan DeMarco',\n",
       " 'Disclosure',\n",
       " 'Dream Man',\n",
       " 'Drop Zone',\n",
       " 'Destiny Turns on the Radio',\n",
       " 'Death and the Maiden',\n",
       " 'Dolores Claiborne',\n",
       " 'Dumb and Dumber',\n",
       " '飲食男女',\n",
       " 'Exotica',\n",
       " 'Exit to Eden',\n",
       " 'Ed Wood',\n",
       " 'French Kiss',\n",
       " 'Forget Paris',\n",
       " 'Far from Home: The Adventures of Yellow Dog',\n",
       " 'A Goofy Movie',\n",
       " 'Hideaway',\n",
       " 'Fluke',\n",
       " 'Farinelli',\n",
       " 'Gordy',\n",
       " 'Gumby: The Movie',\n",
       " 'The Glass Shield',\n",
       " 'Hoop Dreams',\n",
       " 'Heavenly Creatures',\n",
       " 'Houseguest',\n",
       " 'Immortal Beloved',\n",
       " 'Heavyweights',\n",
       " 'The Hunted',\n",
       " 'I.Q.',\n",
       " 'Interview with the Vampire',\n",
       " 'Jefferson in Paris',\n",
       " 'The Jerky Boys',\n",
       " 'Junior',\n",
       " 'Just Cause',\n",
       " \"A Kid in King Arthur's Court\",\n",
       " 'Kiss of Death',\n",
       " 'Star Wars',\n",
       " 'Little Women',\n",
       " 'A Little Princess',\n",
       " 'Ladybird Ladybird',\n",
       " \"L'Enfer\",\n",
       " 'Como agua para chocolate',\n",
       " 'Legends of the Fall',\n",
       " 'Major Payne',\n",
       " 'Little Odessa',\n",
       " 'Mi Vida Loca',\n",
       " 'Love Affair',\n",
       " 'Losing Isaiah',\n",
       " 'The Madness of King George',\n",
       " 'Frankenstein',\n",
       " 'Man of the House',\n",
       " 'Mixed Nuts',\n",
       " 'Milk Money',\n",
       " 'Miracle on 34th Street',\n",
       " 'Miami Rhapsody',\n",
       " 'My Family',\n",
       " 'Murder in the First',\n",
       " \"Nobody's Fool\",\n",
       " 'Nell',\n",
       " 'New Jersey Drive',\n",
       " 'New York Cop',\n",
       " 'Beyond Bedlam',\n",
       " 'Nemesis 2 - Nebula',\n",
       " 'Nina Takes a Lover',\n",
       " 'Natural Born Killers',\n",
       " 'Only You',\n",
       " 'Once Were Warriors',\n",
       " 'Poison Ivy II: Lily',\n",
       " 'Outbreak',\n",
       " 'Léon',\n",
       " 'The Perez Family',\n",
       " \"A Pyromaniac's Love Story\",\n",
       " 'Pulp Fiction',\n",
       " 'Panther',\n",
       " 'Pushing Hands',\n",
       " 'Priest',\n",
       " 'Quiz Show',\n",
       " 'Picture Bride',\n",
       " 'La Reine Margot',\n",
       " 'The Quick and the Dead',\n",
       " 'Roommates',\n",
       " 'Prêt-à-Porter',\n",
       " 'Trois couleurs : Rouge',\n",
       " 'Trois couleurs : Bleu',\n",
       " 'Trois couleurs : Blanc',\n",
       " 'Pao Da Shuang Deng',\n",
       " 'Rent-a-Kid',\n",
       " 'Relative Fear',\n",
       " 'Stuart Saves His Family',\n",
       " 'The Swan Princess',\n",
       " 'The Secret of Roan Inish',\n",
       " 'The Specialist',\n",
       " 'Stargate',\n",
       " 'The Santa Clause',\n",
       " 'The Shawshank Redemption',\n",
       " 'Shallow Grave',\n",
       " 'Suture',\n",
       " 'Fresa y chocolate',\n",
       " 'Swimming with Sharks',\n",
       " 'The Sum of Us',\n",
       " 'Senior Trip',\n",
       " '活着',\n",
       " 'Tank Girl',\n",
       " 'Tales from the Crypt: Demon Knight',\n",
       " 'Star Trek: Generations',\n",
       " 'Tales from the Hood',\n",
       " 'Tom & Viv',\n",
       " 'Village of the Damned',\n",
       " 'Tommy Boy',\n",
       " 'Vanya on 42nd Street',\n",
       " 'The Underneath',\n",
       " 'The Walking Dead',\n",
       " \"What's Eating Gilbert Grape\",\n",
       " 'Virtuosity',\n",
       " 'While You Were Sleeping',\n",
       " 'The War',\n",
       " 'Double Happiness',\n",
       " \"Muriel's Wedding\",\n",
       " 'The Baby-Sitters Club',\n",
       " 'Ace Ventura: Pet Detective',\n",
       " 'The Adventures of Priscilla, Queen of the Desert',\n",
       " 'Backbeat',\n",
       " 'Bitter Moon',\n",
       " 'Bullets Over Broadway',\n",
       " 'Clear and Present Danger',\n",
       " 'The Client',\n",
       " 'Corrina, Corrina',\n",
       " 'Crooklyn',\n",
       " 'The Crow',\n",
       " 'Cobb',\n",
       " 'The Flintstones',\n",
       " 'Forrest Gump',\n",
       " 'Four Weddings and a Funeral',\n",
       " 'Higher Learning',\n",
       " 'I Like It Like That',\n",
       " 'I Love Trouble',\n",
       " 'It Could Happen to You',\n",
       " 'The Jungle Book',\n",
       " 'Die Macht der Bilder: Leni Riefenstahl',\n",
       " 'The Lion King',\n",
       " 'Little Buddha',\n",
       " 'New Nightmare',\n",
       " 'The Mask',\n",
       " 'Maverick',\n",
       " 'Mrs. Parker and the Vicious Circle',\n",
       " 'The Naked Gun 33⅓: The Final Insult',\n",
       " 'The Paper',\n",
       " 'Reality Bites',\n",
       " 'Red Rock West',\n",
       " 'Ri¢hie Ri¢h',\n",
       " 'Safe Passage',\n",
       " 'The River Wild',\n",
       " 'Speed',\n",
       " 'Speechless',\n",
       " 'Timecop',\n",
       " 'True Lies',\n",
       " 'When a Man Loves a Woman',\n",
       " 'Wolf',\n",
       " 'Wyatt Earp',\n",
       " 'Bad Company',\n",
       " 'A Man of No Importance',\n",
       " 'S.F.W.',\n",
       " 'A Low Down Dirty Shame',\n",
       " 'Boys Life: Three Stories of Love, Lust, and Liberation',\n",
       " 'Le colonel Chabert',\n",
       " 'Faster, Pussycat! Kill! Kill!',\n",
       " \"Jason's Lyric\",\n",
       " 'The Secret Adventures of Tom Thumb',\n",
       " 'Street Fighter',\n",
       " 'Coldblooded',\n",
       " 'Desert Winds',\n",
       " 'Fall Time',\n",
       " 'The Fear',\n",
       " 'Frank and Ollie',\n",
       " 'Girl in the Cadillac',\n",
       " 'Homage',\n",
       " 'Mirage',\n",
       " 'Open Season',\n",
       " 'Dos Crímenes',\n",
       " 'Brother Minister: The Assassination of Malcolm X',\n",
       " 'Highlander III: The Sorcerer',\n",
       " 'Federal Hill',\n",
       " 'In the Mouth of Madness',\n",
       " '8 Seconds',\n",
       " 'Above the Rim',\n",
       " 'Addams Family Values',\n",
       " 'Martin Lawrence: You So Crazy',\n",
       " 'The Age of Innocence',\n",
       " 'Airheads',\n",
       " 'The Air Up There',\n",
       " 'Another Stakeout',\n",
       " 'Bad Girls',\n",
       " 'Barcelona',\n",
       " 'Being Human',\n",
       " 'The Beverly Hillbillies',\n",
       " 'Beverly Hills Cop III',\n",
       " 'Black Beauty',\n",
       " 'Blink',\n",
       " 'Blown Away',\n",
       " 'Blue Chips',\n",
       " 'Blue Sky',\n",
       " 'Body Snatchers',\n",
       " 'Boxing Helena',\n",
       " 'A Bronx Tale',\n",
       " 'Cabin Boy',\n",
       " 'Calendar Girl',\n",
       " \"Carlito's Way\",\n",
       " \"City Slickers II: The Legend of Curly's Gold\",\n",
       " 'Clean Slate',\n",
       " 'Cliffhanger',\n",
       " 'Coneheads',\n",
       " 'Color of Night',\n",
       " 'Cops & Robbersons',\n",
       " 'The Cowboy Way',\n",
       " 'Dangerous Game',\n",
       " 'Dave',\n",
       " 'Dazed and Confused',\n",
       " 'Demolition Man',\n",
       " 'The Endless Summer 2',\n",
       " 'Even Cowgirls Get the Blues',\n",
       " 'Fatal Instinct',\n",
       " '霸王别姬',\n",
       " 'The Favor',\n",
       " 'Fearless',\n",
       " 'Fear of a Black Hat',\n",
       " 'With Honors',\n",
       " 'Flesh and Bone',\n",
       " \"Widows' Peak\",\n",
       " 'For Love or Money',\n",
       " 'The Firm',\n",
       " 'Free Willy',\n",
       " 'Fresh',\n",
       " 'The Fugitive',\n",
       " 'Geronimo: An American Legend',\n",
       " 'The Getaway',\n",
       " 'Getting Even with Dad',\n",
       " 'Go Fish',\n",
       " 'A Good Man in Africa',\n",
       " 'Guilty as Sin',\n",
       " 'Hard Target',\n",
       " 'Heaven & Earth',\n",
       " 'Hot Shots! Part Deux',\n",
       " 'Live Nude Girls',\n",
       " 'The Englishman Who Went Up a Hill But Came Down a Mountain',\n",
       " 'The House of the Spirits',\n",
       " 'House Party 3',\n",
       " 'The Hudsucker Proxy',\n",
       " \"I'll Do Anything\",\n",
       " 'In the Army Now',\n",
       " 'In the Line of Fire',\n",
       " 'In the Name of the Father',\n",
       " 'The Inkwell',\n",
       " \"What's Love Got to Do with It\",\n",
       " 'Jimmy Hollywood',\n",
       " 'Judgment Night',\n",
       " 'Jurassic Park',\n",
       " 'Kalifornia',\n",
       " 'Killing Zoe',\n",
       " 'King of the Hill',\n",
       " 'Lassie',\n",
       " 'Last Action Hero',\n",
       " 'Life With Mikey',\n",
       " 'Lightning Jack',\n",
       " 'M. Butterfly',\n",
       " 'Made in America',\n",
       " 'Malice',\n",
       " 'The Man without a Face',\n",
       " 'Manhattan Murder Mystery',\n",
       " 'Menace II Society',\n",
       " 'Executive Decision',\n",
       " '愛のコリーダ',\n",
       " 'What Happened Was...',\n",
       " 'Much Ado About Nothing',\n",
       " 'Mr. Jones',\n",
       " 'Mr. Wonderful',\n",
       " 'Mrs. Doubtfire',\n",
       " 'Naked',\n",
       " 'The Next Karate Kid',\n",
       " 'The New Age',\n",
       " 'No Escape',\n",
       " 'North',\n",
       " 'Orlando',\n",
       " 'A Perfect World',\n",
       " 'Philadelphia',\n",
       " 'The Piano',\n",
       " 'Poetic Justice',\n",
       " 'The Program',\n",
       " 'The Puppet Masters',\n",
       " 'Radioland Murders',\n",
       " 'The Ref',\n",
       " 'The Remains of the Day',\n",
       " 'Renaissance Man',\n",
       " 'Rising Sun',\n",
       " 'The Road to Wellville',\n",
       " 'RoboCop 3',\n",
       " 'Robin Hood: Men in Tights',\n",
       " 'Romeo Is Bleeding',\n",
       " 'Romper Stomper',\n",
       " 'Ruby in Paradise',\n",
       " 'Rudy',\n",
       " 'The Saint of Fort Washington',\n",
       " 'Les Nuits Fauves',\n",
       " \"Schindler's List\",\n",
       " 'The Scout',\n",
       " 'Searching for Bobby Fischer',\n",
       " 'Second Best',\n",
       " 'The Secret Garden',\n",
       " 'Serial Mom',\n",
       " 'The Shadow',\n",
       " 'Shadowlands',\n",
       " 'Short Cuts',\n",
       " 'A Simple Twist of Fate',\n",
       " 'Sirens',\n",
       " 'Six Degrees of Separation',\n",
       " 'Sleepless in Seattle',\n",
       " 'Sliver',\n",
       " 'Blade Runner',\n",
       " 'Son in Law',\n",
       " 'So I Married an Axe Murderer',\n",
       " 'Striking Distance',\n",
       " 'Harem',\n",
       " 'Super Mario Bros.',\n",
       " 'Surviving the Game',\n",
       " 'Terminal Velocity',\n",
       " 'Thirty Two Short Films About Glenn Gould',\n",
       " 'Threesome',\n",
       " 'The Nightmare Before Christmas',\n",
       " 'The Three Musketeers',\n",
       " 'Tombstone',\n",
       " 'Trial by Jury',\n",
       " 'True Romance',\n",
       " 'The War Room',\n",
       " 'The Pagemaster',\n",
       " 'Paris, France',\n",
       " 'The Beans of Egypt, Maine',\n",
       " 'Killer',\n",
       " 'Welcome to the Dollhouse',\n",
       " 'Germinal',\n",
       " 'Chasers',\n",
       " 'Cronos',\n",
       " 'Naked in New York',\n",
       " 'Kika',\n",
       " 'Bhaji on the Beach',\n",
       " 'Little Big League',\n",
       " 'Kådisbellan',\n",
       " 'Wide Eyed and Legless',\n",
       " 'Foreign Student',\n",
       " 'Io speriamo che me la cavo',\n",
       " 'Spanking the Monkey',\n",
       " 'The Little Rascals',\n",
       " 'À la mode',\n",
       " 'Andre',\n",
       " 'La scorta',\n",
       " 'Princess Caraboo',\n",
       " 'The Celluloid Closet',\n",
       " 'Métisse',\n",
       " 'Caro diario',\n",
       " 'De eso no se habla',\n",
       " 'The Brady Bunch Movie',\n",
       " 'Home Alone',\n",
       " 'Ghost',\n",
       " 'Aladdin',\n",
       " 'Terminator 2: Judgment Day',\n",
       " 'Dances with Wolves',\n",
       " 'Tough and Deadly',\n",
       " 'Batman',\n",
       " 'The Silence of the Lambs',\n",
       " 'Snow White and the Seven Dwarfs',\n",
       " 'Beauty and the Beast',\n",
       " 'Pinocchio',\n",
       " 'Pretty Woman',\n",
       " 'Окно в Париж',\n",
       " 'The Wild Bunch',\n",
       " 'Love and a .45',\n",
       " \"The Wooden Man's Bride\",\n",
       " 'A Great Day in Harlem',\n",
       " 'Bye Bye Love',\n",
       " 'One Fine Day',\n",
       " 'Candyman: Farewell to the Flesh',\n",
       " 'Century',\n",
       " 'Fargo',\n",
       " 'Homeward Bound II: Lost in San Francisco',\n",
       " 'Heavy Metal',\n",
       " 'Hellraiser: Bloodline',\n",
       " 'The Pallbearer',\n",
       " 'Jane Eyre',\n",
       " 'Loaded',\n",
       " 'Pane e cioccolata',\n",
       " 'The Aristocats',\n",
       " 'La flor de mi secreto',\n",
       " 'Two Much',\n",
       " 'Ed',\n",
       " 'Schrei aus Stein',\n",
       " 'Ma saison préférée',\n",
       " 'A Modern Affair',\n",
       " 'Condition Red',\n",
       " 'Asfour Stah',\n",
       " 'A Thin Line Between Love and Hate',\n",
       " 'The Last Supper',\n",
       " 'Primal Fear',\n",
       " 'Rude',\n",
       " 'Carried Away',\n",
       " 'All Dogs Go to Heaven 2',\n",
       " 'Land and Freedom',\n",
       " 'Denise Calls Up',\n",
       " 'Theodore Rex',\n",
       " 'A Family Thing',\n",
       " 'Frisk',\n",
       " 'Sgt. Bilko',\n",
       " 'Jack & Sarah',\n",
       " 'Girl 6',\n",
       " 'Diabolique',\n",
       " 'Un indien dans la ville',\n",
       " 'Roula - Dunkle Geheimnisse',\n",
       " 'Peanuts – Die Bank zahlt alles',\n",
       " 'Happy Weekend',\n",
       " 'Nelly & Monsieur Arnaud',\n",
       " 'Courage Under Fire',\n",
       " 'Mission: Impossible',\n",
       " 'Á köldum klaka',\n",
       " 'Moll Flanders',\n",
       " 'Das Superweib',\n",
       " '삼공일 삼공이',\n",
       " 'DragonHeart',\n",
       " 'Und keiner weint mir nach',\n",
       " \"My Mother's Courage\",\n",
       " 'Eddie',\n",
       " 'Yankee Zulu',\n",
       " \"Billy's Holiday\",\n",
       " 'Plein soleil',\n",
       " 'August',\n",
       " 'James and the Giant Peach',\n",
       " 'Fear',\n",
       " 'Kids in the Hall: Brain Candy',\n",
       " 'Faithful',\n",
       " 'Podzemlje',\n",
       " 'Lust och fägring stor',\n",
       " 'Bloodsport II',\n",
       " 'পথের পাঁচালী',\n",
       " 'অপুর সংসার',\n",
       " 'Mystery Science Theater 3000: The Movie',\n",
       " 'Tarantella',\n",
       " 'Space Jam',\n",
       " 'Barbarella',\n",
       " 'Hostile Intentions',\n",
       " 'They Bite',\n",
       " 'Some Folks Call It a Sling Blade',\n",
       " 'The Run of the Country',\n",
       " 'Alphaville, une étrange aventure de Lemmy Caution',\n",
       " 'Coup de torchon',\n",
       " 'Tigrero: A Film That Was Never Made',\n",
       " \"L'oeil de Vichy\",\n",
       " 'Windows',\n",
       " \"It's My Party\",\n",
       " 'Country Life',\n",
       " 'Operation Dumbo Drop',\n",
       " 'Das Versprechen',\n",
       " 'Mrs. Winterbourne',\n",
       " 'Solo',\n",
       " 'Etz Hadomim Tafus',\n",
       " 'The Substitute',\n",
       " 'True Crime',\n",
       " 'Butterfly Kiss',\n",
       " 'Feeling Minnesota',\n",
       " 'Delta of Venus',\n",
       " 'To Cross the Rubicon',\n",
       " 'Angus',\n",
       " 'Daens',\n",
       " 'Faces',\n",
       " 'Boys',\n",
       " 'The Quest',\n",
       " 'Cosi',\n",
       " 'Sunset Park',\n",
       " 'Mulholland Falls',\n",
       " 'The Truth About Cats & Dogs',\n",
       " 'Oliver & Company',\n",
       " 'Celtic Pride',\n",
       " 'Flipper',\n",
       " 'Captives',\n",
       " 'Of Love and Shadows',\n",
       " 'Dead Man',\n",
       " 'Le Hussard sur le toit',\n",
       " 'Switchblade Sisters',\n",
       " 'Boca a boca',\n",
       " 'Les visiteurs',\n",
       " 'Multiplicity',\n",
       " 'The Haunted World of Edward D. Wood, Jr.',\n",
       " 'Due Amici',\n",
       " 'The Craft',\n",
       " 'The Great White Hype',\n",
       " 'Last Dance',\n",
       " 'War Stories Our Mother Never Told Us',\n",
       " 'Cold Comfort Farm',\n",
       " 'Institute Benjamenta, or This Dream People Call Human Life',\n",
       " \"Heaven's Prisoners\",\n",
       " 'Original Gangstas',\n",
       " 'The Rock',\n",
       " 'Getting Away with Murder',\n",
       " 'Dellamorte Dellamore',\n",
       " 'Twister',\n",
       " 'Barb Wire',\n",
       " 'Le garçu',\n",
       " 'Honigmond',\n",
       " 'GHOST IN THE SHELL',\n",
       " 'Thinner',\n",
       " 'Spy Hard',\n",
       " 'Brothers in Trouble',\n",
       " 'A Close Shave',\n",
       " 'Force of Evil',\n",
       " 'The Stupids',\n",
       " 'The Arrival',\n",
       " 'The Man from Down Under',\n",
       " 'Dr. Strangelove or: How I Learned to Stop Worrying and Love the Bomb',\n",
       " 'Careful',\n",
       " 'Vermont Is for Lovers',\n",
       " 'A Month by the Lake',\n",
       " 'Gold Diggers: The Secret of Bear Mountain',\n",
       " 'Kim',\n",
       " 'Carmen Miranda: Bananas Is My Business',\n",
       " '東邪西毒',\n",
       " 'Khomreh',\n",
       " 'Maya Lin: A Strong Clear Vision',\n",
       " 'Stalingrad',\n",
       " 'The Phantom',\n",
       " 'Striptease',\n",
       " 'The Last of the High Kings',\n",
       " 'Heavy',\n",
       " 'Jack',\n",
       " 'I Shot Andy Warhol',\n",
       " 'The Grass Harp',\n",
       " 'Tuđa Amerika',\n",
       " 'La vie est belle',\n",
       " 'Quartier Mozart',\n",
       " 'Touki-Bouki',\n",
       " 'Wend Kuuni',\n",
       " 'Histoires extraordinaires',\n",
       " 'Babyfever',\n",
       " \"Pharaoh's  Army\",\n",
       " 'Trainspotting',\n",
       " 'Til There Was You',\n",
       " 'Independence Day',\n",
       " 'Stealing Beauty',\n",
       " 'The Fan',\n",
       " 'The Hunchback of Notre Dame',\n",
       " 'The Cable Guy',\n",
       " 'Kingpin',\n",
       " 'Eraser',\n",
       " 'The Gate of Heavenly Peace',\n",
       " 'The Nutty Professor',\n",
       " 'Yo, la peor de todas',\n",
       " 'Un été inoubliable',\n",
       " 'Hol volt, hol nem volt',\n",
       " \"En compagnie d'Antonin Artaud\",\n",
       " 'Sibak',\n",
       " 'Somebody to Love',\n",
       " 'A Very Natural Thing',\n",
       " 'La vieille qui marchait dans la mer',\n",
       " 'Daylight',\n",
       " 'The Frighteners',\n",
       " 'Lone Star',\n",
       " 'Harriet the Spy',\n",
       " 'Phenomenon',\n",
       " 'Walking and Talking',\n",
       " \"She's the One\",\n",
       " 'A Time to Kill',\n",
       " 'American Buffalo',\n",
       " 'Les Rendez-vous de Paris',\n",
       " 'Alaska',\n",
       " 'Fled',\n",
       " 'Kazaam',\n",
       " 'Bűvös vadász',\n",
       " 'Larger Than Life',\n",
       " 'A Boy Called Hate',\n",
       " 'Power 98',\n",
       " 'Two Deaths',\n",
       " 'A Very Brady Sequel',\n",
       " 'Stefano Quantestorie',\n",
       " 'La mort en ce jardin',\n",
       " 'Hedd Wyn',\n",
       " 'La Collectionneuse',\n",
       " 'Kaspar Hauser',\n",
       " 'Echte Kerle',\n",
       " 'Diebinnen',\n",
       " 'O Convento',\n",
       " 'The Adventures of Pinocchio',\n",
       " \"Joe's Apartment\",\n",
       " 'The First Wives Club',\n",
       " 'Stonewall',\n",
       " 'Ransom',\n",
       " 'High School High',\n",
       " 'Phat Beach',\n",
       " 'Foxfire',\n",
       " 'Chain Reaction',\n",
       " 'Matilda',\n",
       " 'Emma',\n",
       " 'The Crow: City of Angels',\n",
       " 'House Arrest',\n",
       " 'Les Yeux sans visage',\n",
       " 'Bordello of Blood',\n",
       " 'Lotto Land',\n",
       " 'The Story of Xinghua',\n",
       " '天國逆子',\n",
       " 'Flirt',\n",
       " 'The Big Squeeze',\n",
       " 'The Spitfire Grill',\n",
       " 'Escape from L.A.',\n",
       " 'Xích lô',\n",
       " 'Basquiat',\n",
       " 'Tin Cup',\n",
       " 'Dingo',\n",
       " '楢山節考',\n",
       " 'Un week-end sur deux',\n",
       " 'Mille bolle blu',\n",
       " 'Wuya yu maque',\n",
       " 'The Godfather',\n",
       " 'Der bewegte Mann',\n",
       " '警察故事 III：超級警察',\n",
       " 'Manny & Lo',\n",
       " 'Tsuma',\n",
       " 'Small Faces',\n",
       " 'Bound',\n",
       " 'Carpool',\n",
       " 'Death in Brunswick',\n",
       " 'Kansas City',\n",
       " \"Gone Fishin'\",\n",
       " \"Lover's Knot\",\n",
       " '愛情萬歲',\n",
       " 'Schatten der Engel',\n",
       " 'Killer: A Journal of Murder',\n",
       " 'Nothing to Lose',\n",
       " '超级计划',\n",
       " 'Girls Town',\n",
       " 'Bye-Bye',\n",
       " 'The Relic',\n",
       " 'The Island of Dr. Moreau',\n",
       " 'First Kid',\n",
       " 'The Trigger Effect',\n",
       " 'Sweet Nothing',\n",
       " 'Bogus',\n",
       " 'Bulletproof',\n",
       " 'Talk of Angels',\n",
       " 'The Land Before Time III: The Time of the Great Giving',\n",
       " '06',\n",
       " 'Baton Rouge',\n",
       " 'Halloween: The Curse of Michael Myers',\n",
       " 'Twelfth Night',\n",
       " 'Mother Night',\n",
       " 'Liebelei',\n",
       " 'Wenecja',\n",
       " 'Les Roseaux Sauvages',\n",
       " 'For Whom the Bell Tolls',\n",
       " 'The Philadelphia Story',\n",
       " \"Singin' in the Rain\",\n",
       " 'An American in Paris',\n",
       " 'Funny Face',\n",
       " \"Breakfast at Tiffany's\",\n",
       " 'Vertigo',\n",
       " 'Rear Window',\n",
       " 'It Happened One Night',\n",
       " 'Gaslight',\n",
       " 'The Gay Divorcee',\n",
       " 'North by Northwest',\n",
       " 'The Apartment',\n",
       " 'Some Like It Hot',\n",
       " 'Charade',\n",
       " 'Casablanca',\n",
       " 'The Maltese Falcon',\n",
       " 'My Fair Lady',\n",
       " 'Sabrina',\n",
       " 'Roman Holiday',\n",
       " 'The Little Princess',\n",
       " 'Meet Me in St. Louis',\n",
       " 'The Wizard of Oz',\n",
       " 'Gone with the Wind',\n",
       " 'My Favorite Year',\n",
       " 'Sunset Boulevard',\n",
       " 'Citizen Kane',\n",
       " '2001: A Space Odyssey',\n",
       " 'Golden Earrings',\n",
       " 'All About Eve',\n",
       " 'The Women',\n",
       " 'Rebecca',\n",
       " 'Foreign Correspondent',\n",
       " 'Notorious',\n",
       " 'Spellbound',\n",
       " 'An Affair to Remember',\n",
       " 'To Catch a Thief',\n",
       " 'Father of the Bride',\n",
       " 'The Band Wagon',\n",
       " 'Ninotchka',\n",
       " 'Love in the Afternoon',\n",
       " 'Gigi',\n",
       " 'The Reluctant Debutante',\n",
       " 'The Adventures of Robin Hood',\n",
       " 'The Mark of Zorro',\n",
       " 'Laura',\n",
       " 'The Ghost and Mrs. Muir',\n",
       " 'Lost Horizon',\n",
       " 'Top Hat',\n",
       " 'To Be or Not to Be',\n",
       " 'My Man Godfrey',\n",
       " 'Giant',\n",
       " 'East of Eden',\n",
       " 'The Thin Man',\n",
       " 'His Girl Friday',\n",
       " 'Around the World in Eighty Days',\n",
       " \"It's a Wonderful Life\",\n",
       " 'Mr. Smith Goes to Washington',\n",
       " 'Bringing Up Baby',\n",
       " 'Penny Serenade',\n",
       " 'The Scarlet Letter',\n",
       " 'Lady of Burlesque',\n",
       " 'Of Human Bondage',\n",
       " 'Angel on My Shoulder',\n",
       " 'Little Lord Fauntleroy',\n",
       " 'They Made Me a Criminal',\n",
       " 'The Inspector General',\n",
       " 'Angel and the Badman',\n",
       " 'The 39 Steps',\n",
       " 'A Walk in the Sun',\n",
       " 'The Outlaw',\n",
       " 'Night of the Living Dead',\n",
       " 'The African Queen',\n",
       " 'Beat the Devil',\n",
       " 'Cat on a Hot Tin Roof',\n",
       " 'The Last Time I Saw Paris',\n",
       " 'Meet John Doe',\n",
       " 'Algiers',\n",
       " 'Something to Sing About',\n",
       " 'A Farewell to Arms',\n",
       " 'Moonlight Murder',\n",
       " 'Nothing Personal',\n",
       " 'Huang jia shi jie',\n",
       " 'Dangerous Ground',\n",
       " 'Picnic',\n",
       " 'Madagascar Skin',\n",
       " 'The Pompatus of Love',\n",
       " 'Small Wonders',\n",
       " 'Fly Away Home',\n",
       " 'Bliss',\n",
       " 'Grace of My Heart',\n",
       " 'Schlafes Bruder',\n",
       " 'Maximum Risk',\n",
       " 'Michael Collins',\n",
       " \"The Rich Man's Wife\",\n",
       " 'Infinity',\n",
       " 'Big Night',\n",
       " 'Last Man Standing',\n",
       " 'Caught',\n",
       " 'Set It Off',\n",
       " '2 Days in the Valley',\n",
       " 'Curdled',\n",
       " \"L'associé\",\n",
       " \"Ed's Next Move\",\n",
       " 'Extreme Measures',\n",
       " 'The Glimmer Man',\n",
       " 'D3: The Mighty Ducks',\n",
       " 'The Chamber',\n",
       " 'The Apple Dumpling Gang',\n",
       " 'Davy Crockett, King of the Wild Frontier',\n",
       " 'Escape to Witch Mountain',\n",
       " 'The Love Bug',\n",
       " 'Herbie Rides Again',\n",
       " 'Old Yeller',\n",
       " 'The Parent Trap',\n",
       " 'Pollyanna',\n",
       " 'Homeward Bound: The Incredible Journey',\n",
       " 'The Shaggy Dog',\n",
       " 'Swiss Family Robinson',\n",
       " 'That Darn Cat!',\n",
       " '20,000 Leagues Under the Sea',\n",
       " 'Cool Runnings',\n",
       " 'Angels in the Outfield',\n",
       " 'Cinderella',\n",
       " 'Winnie the Pooh and the Blustery Day',\n",
       " 'The Three Caballeros',\n",
       " 'The Sword in the Stone',\n",
       " 'So Dear to My Heart',\n",
       " 'Robin Hood: Prince of Thieves',\n",
       " 'Mary Poppins',\n",
       " ...]"
      ]
     },
     "execution_count": 5,
     "metadata": {},
     "output_type": "execute_result"
    }
   ],
   "source": [
    "titles"
   ]
  },
  {
   "cell_type": "markdown",
   "metadata": {
    "deletable": true,
    "editable": true
   },
   "source": [
    "## Let's build a Search Engine!\n",
    "\n",
    "Google is famous for their  hard data structures and algo interviews, Google is also famous for their Search Engine, probably just a coincidence right?\n",
    "\n",
    "\n",
    "![alt text](https://i.imgur.com/C55FUko.jpg)\n"
   ]
  },
  {
   "cell_type": "markdown",
   "metadata": {
    "deletable": true,
    "editable": true
   },
   "source": [
    "The answer is no! It turns out that if you want to tackle a hard problem whether it's in data science, machine learning, software engineering or something like search which requires all of the above you really need to know your data structures.\n",
    "\n",
    "## Starter Problem\n",
    "\n",
    "Given our dataset of movie titles how could I determine if a movie that I've seen is in the list? Let's assume to begin with that my spelling is perfect and I would never misremember the title of a film."
   ]
  },
  {
   "cell_type": "code",
   "execution_count": 6,
   "metadata": {
    "collapsed": true,
    "deletable": true,
    "editable": true
   },
   "outputs": [],
   "source": [
    "def search_engine(movie_title, movie_list):\n",
    "    return movie_title in movie_list"
   ]
  },
  {
   "cell_type": "code",
   "execution_count": 7,
   "metadata": {
    "collapsed": false,
    "deletable": true,
    "editable": true
   },
   "outputs": [],
   "source": [
    "def for_search_engine(movie_title, movie_list):\n",
    "    for movie in movie_list:\n",
    "        if movie_title == movie:\n",
    "            return True\n"
   ]
  },
  {
   "cell_type": "code",
   "execution_count": 8,
   "metadata": {
    "collapsed": false,
    "deletable": true,
    "editable": true
   },
   "outputs": [
    {
     "data": {
      "text/plain": [
       "True"
      ]
     },
     "execution_count": 8,
     "metadata": {},
     "output_type": "execute_result"
    }
   ],
   "source": [
    "search_engine('The Lion King', titles)"
   ]
  },
  {
   "cell_type": "code",
   "execution_count": 9,
   "metadata": {
    "collapsed": false,
    "deletable": true,
    "editable": true
   },
   "outputs": [
    {
     "data": {
      "text/plain": [
       "False"
      ]
     },
     "execution_count": 9,
     "metadata": {},
     "output_type": "execute_result"
    }
   ],
   "source": [
    "search_engine('Dan Carroll', titles)"
   ]
  },
  {
   "cell_type": "markdown",
   "metadata": {
    "deletable": true,
    "editable": true
   },
   "source": [
    "## How did we do? How can we qualify/quanitfy the performance of the solution?\n",
    "\n"
   ]
  },
  {
   "cell_type": "markdown",
   "metadata": {
    "deletable": true,
    "editable": true
   },
   "source": [
    "An easy way would be to quantify the time measurement of the particular task"
   ]
  },
  {
   "cell_type": "code",
   "execution_count": 10,
   "metadata": {
    "collapsed": false,
    "deletable": true,
    "editable": true
   },
   "outputs": [
    {
     "name": "stdout",
     "output_type": "stream",
     "text": [
      "0.0017709732055664062\n"
     ]
    }
   ],
   "source": [
    "import time\n",
    "\n",
    "start = time.time()\n",
    "for_search_engine('Dan Carroll',titles)\n",
    "end = time.time()\n",
    "list_time = end-start\n",
    "print(list_time)"
   ]
  },
  {
   "cell_type": "code",
   "execution_count": 12,
   "metadata": {
    "collapsed": false,
    "deletable": true,
    "editable": true,
    "scrolled": true
   },
   "outputs": [
    {
     "name": "stdout",
     "output_type": "stream",
     "text": [
      "1000 loops, best of 3: 504 µs per loop\n"
     ]
    }
   ],
   "source": [
    "%timeit search_engine('Dan Carroll',titles)"
   ]
  },
  {
   "cell_type": "code",
   "execution_count": 13,
   "metadata": {
    "collapsed": false,
    "deletable": true,
    "editable": true,
    "scrolled": true
   },
   "outputs": [
    {
     "name": "stdout",
     "output_type": "stream",
     "text": [
      "1000 loops, best of 3: 1.23 ms per loop\n"
     ]
    }
   ],
   "source": [
    "%timeit for_search_engine('Dan Carroll',titles)"
   ]
  },
  {
   "cell_type": "code",
   "execution_count": 14,
   "metadata": {
    "collapsed": false,
    "deletable": true,
    "editable": true
   },
   "outputs": [],
   "source": [
    "import dis"
   ]
  },
  {
   "cell_type": "code",
   "execution_count": 15,
   "metadata": {
    "collapsed": false,
    "deletable": true,
    "editable": true
   },
   "outputs": [
    {
     "name": "stdout",
     "output_type": "stream",
     "text": [
      "  2           0 LOAD_FAST                0 (movie_title)\n",
      "              2 LOAD_FAST                1 (movie_list)\n",
      "              4 COMPARE_OP               6 (in)\n",
      "              6 RETURN_VALUE\n"
     ]
    }
   ],
   "source": [
    "dis.dis(search_engine)"
   ]
  },
  {
   "cell_type": "code",
   "execution_count": 16,
   "metadata": {
    "collapsed": false,
    "deletable": true,
    "editable": true
   },
   "outputs": [
    {
     "name": "stdout",
     "output_type": "stream",
     "text": [
      "  2           0 SETUP_LOOP              24 (to 26)\n",
      "              2 LOAD_FAST                1 (movie_list)\n",
      "              4 GET_ITER\n",
      "        >>    6 FOR_ITER                16 (to 24)\n",
      "              8 STORE_FAST               2 (movie)\n",
      "\n",
      "  3          10 LOAD_FAST                0 (movie_title)\n",
      "             12 LOAD_FAST                2 (movie)\n",
      "             14 COMPARE_OP               2 (==)\n",
      "             16 POP_JUMP_IF_FALSE        6\n",
      "\n",
      "  4          18 LOAD_CONST               1 (True)\n",
      "             20 RETURN_VALUE\n",
      "             22 JUMP_ABSOLUTE            6\n",
      "        >>   24 POP_BLOCK\n",
      "        >>   26 LOAD_CONST               0 (None)\n",
      "             28 RETURN_VALUE\n"
     ]
    }
   ],
   "source": [
    "dis.dis(for_search_engine)"
   ]
  },
  {
   "cell_type": "code",
   "execution_count": 18,
   "metadata": {
    "collapsed": false,
    "deletable": true,
    "editable": true
   },
   "outputs": [
    {
     "name": "stdout",
     "output_type": "stream",
     "text": [
      "0.0008492469787597656\n"
     ]
    }
   ],
   "source": [
    "start = time.time()\n",
    "search_engine('Dan Carroll',titles)\n",
    "end = time.time()\n",
    "list_time = end-start\n",
    "print(list_time)"
   ]
  },
  {
   "cell_type": "markdown",
   "metadata": {
    "deletable": true,
    "editable": true
   },
   "source": [
    "This seems pretty fast, how does this scale with the size of the list? \n",
    "\n",
    "Our intuition ought to tell us that since the search engine is going to look at the entire list that if we double the size of the list, we ought to double the number of operations our search engine is going to have to perform. Let's see if we can validate this with some examples"
   ]
  },
  {
   "cell_type": "code",
   "execution_count": 19,
   "metadata": {
    "collapsed": true,
    "deletable": true,
    "editable": true
   },
   "outputs": [],
   "source": [
    "long_titles = titles*1000\n",
    "longer_titles = titles*2000"
   ]
  },
  {
   "cell_type": "code",
   "execution_count": 21,
   "metadata": {
    "collapsed": false,
    "deletable": true,
    "editable": true
   },
   "outputs": [
    {
     "data": {
      "text/plain": [
       "(45466000, 90932000)"
      ]
     },
     "execution_count": 21,
     "metadata": {},
     "output_type": "execute_result"
    }
   ],
   "source": [
    "len(long_titles), len(longer_titles)"
   ]
  },
  {
   "cell_type": "code",
   "execution_count": 22,
   "metadata": {
    "collapsed": false,
    "deletable": true,
    "editable": true
   },
   "outputs": [
    {
     "name": "stdout",
     "output_type": "stream",
     "text": [
      "0.525825023651123\n"
     ]
    }
   ],
   "source": [
    "start = time.time()\n",
    "search_engine('Dan Carroll',long_titles)\n",
    "end = time.time()\n",
    "long_list_time = end-start\n",
    "print(long_list_time)"
   ]
  },
  {
   "cell_type": "code",
   "execution_count": 23,
   "metadata": {
    "collapsed": false,
    "deletable": true,
    "editable": true
   },
   "outputs": [
    {
     "name": "stdout",
     "output_type": "stream",
     "text": [
      "1.140449047088623\n"
     ]
    }
   ],
   "source": [
    "start = time.time()\n",
    "search_engine('Dan Carroll',longer_titles)\n",
    "end = time.time()\n",
    "longer_list_time = end-start\n",
    "print(longer_list_time)"
   ]
  },
  {
   "cell_type": "code",
   "execution_count": 24,
   "metadata": {
    "collapsed": false,
    "deletable": true,
    "editable": true
   },
   "outputs": [
    {
     "data": {
      "text/plain": [
       "2.168875568472933"
      ]
     },
     "execution_count": 24,
     "metadata": {},
     "output_type": "execute_result"
    }
   ],
   "source": [
    "longer_list_time/long_list_time"
   ]
  },
  {
   "cell_type": "markdown",
   "metadata": {
    "deletable": true,
    "editable": true
   },
   "source": [
    "![alt text](https://lankydan.dev/static/e400c3e7ffa7767eda4f91a01fbc568b/a32c3/complexity-graph.png)"
   ]
  },
  {
   "cell_type": "markdown",
   "metadata": {
    "deletable": true,
    "editable": true
   },
   "source": [
    "## A Faster Method\n",
    "\n",
    "How could we improve the performance of our previous solution? What is it about the data structure that we chose that made it less than ideal for the task? "
   ]
  },
  {
   "cell_type": "code",
   "execution_count": 25,
   "metadata": {
    "collapsed": true,
    "deletable": true,
    "editable": true
   },
   "outputs": [],
   "source": [
    "title_set = set(titles)\n",
    "long_title_set = set(long_titles)\n",
    "longer_title_set = set(longer_titles)"
   ]
  },
  {
   "cell_type": "code",
   "execution_count": 27,
   "metadata": {
    "collapsed": false
   },
   "outputs": [
    {
     "data": {
      "text/plain": [
       "(43373, 43373, 43373)"
      ]
     },
     "execution_count": 27,
     "metadata": {},
     "output_type": "execute_result"
    }
   ],
   "source": [
    "len(title_set), len(long_title_set), len(longer_title_set)"
   ]
  },
  {
   "cell_type": "markdown",
   "metadata": {},
   "source": [
    "Ah so it turns out that our neat trick for making lists longer doesen't work with sets. This would be because sets have the criteria that each element is unique. We can get around this and get our sets to be in the same neighborhood as our lists by using numbers as entries in our sets."
   ]
  },
  {
   "cell_type": "code",
   "execution_count": 40,
   "metadata": {
    "collapsed": false
   },
   "outputs": [],
   "source": [
    "long_title_set = set(range(0,len(long_titles) - len(titles))).union(title_set)\n",
    "longer_title_set = set(range(0,len(longer_titles) - len(titles))).union(title_set)"
   ]
  },
  {
   "cell_type": "code",
   "execution_count": 41,
   "metadata": {
    "collapsed": false
   },
   "outputs": [
    {
     "data": {
      "text/plain": [
       "(43373, 45463907, 90929907)"
      ]
     },
     "execution_count": 41,
     "metadata": {},
     "output_type": "execute_result"
    }
   ],
   "source": [
    "len(title_set), len(long_title_set), len(longer_title_set)"
   ]
  },
  {
   "cell_type": "code",
   "execution_count": 42,
   "metadata": {
    "collapsed": false,
    "deletable": true,
    "editable": true
   },
   "outputs": [
    {
     "name": "stdout",
     "output_type": "stream",
     "text": [
      "8.392333984375e-05\n",
      "10.119318181818182\n"
     ]
    }
   ],
   "source": [
    "start = time.time()\n",
    "search_engine('Dan Carroll',title_set)\n",
    "end = time.time()\n",
    "set_time = end-start\n",
    "print(set_time)\n",
    "print(list_time/set_time)"
   ]
  },
  {
   "cell_type": "code",
   "execution_count": 43,
   "metadata": {
    "collapsed": false,
    "deletable": true,
    "editable": true
   },
   "outputs": [
    {
     "name": "stdout",
     "output_type": "stream",
     "text": [
      "5.984306335449219e-05\n",
      "19057.330677290836\n"
     ]
    }
   ],
   "source": [
    "start = time.time()\n",
    "search_engine('Dan Carroll',longer_title_set)\n",
    "end = time.time()\n",
    "longer_set_time = end-start\n",
    "print(longer_set_time)\n",
    "print(longer_list_time/longer_set_time)"
   ]
  },
  {
   "cell_type": "markdown",
   "metadata": {
    "deletable": true,
    "editable": true
   },
   "source": [
    "## A Harder Problem\n",
    "\n",
    "What if I wanted to find movies I had seen before but I wasn't confident in my spelling? What kind of approach could I consider that would allow me to solve that problem?\n"
   ]
  },
  {
   "cell_type": "code",
   "execution_count": 46,
   "metadata": {
    "collapsed": true,
    "deletable": true,
    "editable": true
   },
   "outputs": [],
   "source": [
    "def modified_jaccard_sim(string_1, string2):\n",
    "    shared = set(string_1).intersection(set(string2))\n",
    "    max_chars = max(len(string_1),len(string2))\n",
    "    return len(shared)/max_chars\n",
    "\n",
    "def jaccard_sim(string_1, string2):\n",
    "    shared = set(string_1).intersection(set(string2))\n",
    "    max_chars = len(set(string_1).union(set(string2)))\n",
    "    return len(shared)/max_chars"
   ]
  },
  {
   "cell_type": "code",
   "execution_count": 47,
   "metadata": {
    "collapsed": false,
    "deletable": true,
    "editable": true
   },
   "outputs": [
    {
     "data": {
      "text/plain": [
       "0.5"
      ]
     },
     "execution_count": 47,
     "metadata": {},
     "output_type": "execute_result"
    }
   ],
   "source": [
    "jaccard_sim(\"cat\",\"bat\")"
   ]
  },
  {
   "cell_type": "code",
   "execution_count": 48,
   "metadata": {
    "collapsed": false,
    "deletable": true,
    "editable": true
   },
   "outputs": [
    {
     "data": {
      "text/plain": [
       "0.6666666666666666"
      ]
     },
     "execution_count": 48,
     "metadata": {},
     "output_type": "execute_result"
    }
   ],
   "source": [
    "modified_jaccard_sim(\"cat\",\"bat\")"
   ]
  },
  {
   "cell_type": "code",
   "execution_count": 49,
   "metadata": {
    "collapsed": true,
    "deletable": true,
    "editable": true
   },
   "outputs": [],
   "source": [
    "def sim_search(movie_title, movie_list):\n",
    "    if movie_title in set(movie_list):\n",
    "        return movie_title\n",
    "    else:\n",
    "        scored_dict = dict()\n",
    "        for movie in movie_list:\n",
    "            scored_dict[movie] = jaccard_sim(movie,movie_title)\n",
    "        result = max(scored_dict, key=scored_dict.get)\n",
    "        return result"
   ]
  },
  {
   "cell_type": "code",
   "execution_count": 50,
   "metadata": {
    "collapsed": false,
    "deletable": true,
    "editable": true
   },
   "outputs": [
    {
     "data": {
      "text/plain": [
       "'Star Wars'"
      ]
     },
     "execution_count": 50,
     "metadata": {},
     "output_type": "execute_result"
    }
   ],
   "source": [
    "sim_search('Stir Wars', titles)"
   ]
  },
  {
   "cell_type": "code",
   "execution_count": null,
   "metadata": {
    "collapsed": true,
    "deletable": true,
    "editable": true
   },
   "outputs": [],
   "source": []
  }
 ],
 "metadata": {
  "kernelspec": {
   "display_name": "Python 3",
   "language": "python",
   "name": "python3"
  },
  "language_info": {
   "codemirror_mode": {
    "name": "ipython",
    "version": 3
   },
   "file_extension": ".py",
   "mimetype": "text/x-python",
   "name": "python",
   "nbconvert_exporter": "python",
   "pygments_lexer": "ipython3",
   "version": "3.6.1"
  }
 },
 "nbformat": 4,
 "nbformat_minor": 2
}
